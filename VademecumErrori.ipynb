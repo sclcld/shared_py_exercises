{
 "cells": [
  {
   "cell_type": "markdown",
   "id": "942c5e4f-cae4-4dbc-80b1-313df0c0d97e",
   "metadata": {},
   "source": [
    "                                                 .\n",
    "# Gli errori in Python\n",
    "## Un Piccolo Vademecum\n",
    "\n",
    "Imparare a leggere e comprendere gli errori è una vera e propria arte che richiede molta pratica, una buona conoscenza teorica e molto sangue freddo. Tendenzialmente è buona prassi prendere in considerazione l'ultima riga. È l'unica \"spiegazione\" facilmente interpretabile in mezzo ad una lunga serie di indirizzi, rimandi a librerie, errori generati da funzioni e le loro concatenazioni. Conoscerli, saper distinguerli, classificarli vi aiuterà a ridurre la possibilità che ciò avvenga.\n",
    "\n",
    "Alla fine di questo vademecum, dovreste essere in grado di \"interpretare\" gli errori più comuni, evitarli, e, anche se non siete in grado di risolverli, sapere cosa e dove andare a cercare. È bene ricordarsi, se si dà importanza alla qualità del proprio tempo, che non esiste errore che non sia stato discusso e/o risolto su [Stack Overflow](https://stackoverflow.com/). In momenti di disperazione estrema, piuttosto che innervosirvi, staccare tutto e decidere di testare la qualità dei materiali del vostro computer lanciandolo da un buon terzo piano, basterà incollare l'errore sul motore di ricerca e, quasi sicuramente, il primo risultato sarà una pagina di Stack Overflow.\n",
    "\n",
    "Le AI sono in grado di comprendere e risolvere gli errori, ma capita frequentemente che a seguito di un prompting (l'arte di fare le domande alle AI) infelice e/o di una loro incapacità di analizzare il problema nel suo contesto specifico, propongano risoluzioni errate ed alle volte inventate, mischiando concetti tra loro. Se può consolarvi, non è ancora giunto il momento di poter dichiarare le AI infallibili.\n",
    "\n",
    "Ogni argomento verrà spiegato con termini ed approcci non troppo \"tecnici\". Lo scopo di questo testo è quello di rendere chiari concetti di programmazione Python in modo semplice e \"fruibile\".\n"
   ]
  },
  {
   "cell_type": "markdown",
   "id": "0b4eb137-2fb8-42db-a212-dde390ffef8f",
   "metadata": {},
   "source": [
    "### NameError:"
   ]
  },
  {
   "cell_type": "markdown",
   "id": "125dd3aa-87c7-4e49-8063-1781a75fd46e",
   "metadata": {},
   "source": [
    "Il NameError si verifica quando Python cerca una variabile che non è stata dichiarata o è stata scritta nel modo sbagliato. "
   ]
  },
  {
   "cell_type": "code",
   "execution_count": null,
   "id": "6ac31eb6-c95e-4dae-af3e-3d48fefa3eca",
   "metadata": {},
   "outputs": [],
   "source": [
    "\"\"\"\n",
    "    NameError: name 'giovani' is not defined\n",
    "\"\"\"    \n",
    "\n",
    "giovanni = \"giuanni\"\n",
    "\n",
    "print(giovani)"
   ]
  },
  {
   "cell_type": "markdown",
   "id": "b4ea6072-4563-4f82-9edc-3c5d73bbc88e",
   "metadata": {},
   "source": [
    "Nello statement print abbiamo un errore di battitura. Python andrà a cercare la variabile giovani e non la troverà."
   ]
  },
  {
   "cell_type": "code",
   "execution_count": 57,
   "id": "49302524-a1a6-45d6-9bba-88e7d5250b9b",
   "metadata": {},
   "outputs": [
    {
     "ename": "NameError",
     "evalue": "name 'giuanni' is not defined",
     "output_type": "error",
     "traceback": [
      "\u001b[0;31m---------------------------------------------------------------------------\u001b[0m",
      "\u001b[0;31mNameError\u001b[0m                                 Traceback (most recent call last)",
      "Cell \u001b[0;32mIn[57], line 1\u001b[0m\n\u001b[0;32m----> 1\u001b[0m \u001b[38;5;28mprint\u001b[39m(\u001b[43mgiuanni\u001b[49m)\n",
      "\u001b[0;31mNameError\u001b[0m: name 'giuanni' is not defined"
     ]
    }
   ],
   "source": [
    "\"\"\"\n",
    "    NameError: name 'giuanni' is not defined\n",
    "\"\"\"\n",
    "\n",
    "print(giuanni)"
   ]
  },
  {
   "cell_type": "markdown",
   "id": "d6ba6838-8ca2-42a0-aa5f-25fadb814296",
   "metadata": {},
   "source": [
    "Tutto ciò che sta al di fuori di singoli e doppi apici viene considerato come nome di una variabile, funzione etc, etc. \n",
    "Verrà dunque cercata una variabile giuanni e non verrà trovata. La stringa \"giuanni\" è conservata all'interno della variabile\n",
    "giovanni e verrà riconosciuta solo tramite il richiamo a quest'ultima."
   ]
  },
  {
   "cell_type": "code",
   "execution_count": 111,
   "id": "c9066aad-b4e9-424d-addc-ee13a9788652",
   "metadata": {},
   "outputs": [
    {
     "ename": "NameError",
     "evalue": "name 'roberto' is not defined",
     "output_type": "error",
     "traceback": [
      "\u001b[0;31m---------------------------------------------------------------------------\u001b[0m",
      "\u001b[0;31mNameError\u001b[0m                                 Traceback (most recent call last)",
      "Cell \u001b[0;32mIn[111], line 1\u001b[0m\n\u001b[0;32m----> 1\u001b[0m \u001b[38;5;28mprint\u001b[39m(\u001b[43mroberto\u001b[49m)\n\u001b[1;32m      3\u001b[0m roberto \u001b[38;5;241m=\u001b[39m \u001b[38;5;124m\"\u001b[39m\u001b[38;5;124mrob\u001b[39m\u001b[38;5;124m\"\u001b[39m\n",
      "\u001b[0;31mNameError\u001b[0m: name 'roberto' is not defined"
     ]
    }
   ],
   "source": [
    "\"\"\"\n",
    "    NameError: name 'roberto' is not defined\n",
    "\"\"\"\n",
    "\n",
    "print(roberto)\n",
    "\n",
    "roberto = \"rob\""
   ]
  },
  {
   "cell_type": "markdown",
   "id": "8bc62d9c-2033-4c49-a7db-f585c55442a5",
   "metadata": {},
   "source": [
    "Ricordiamoci che Python è un linguaggio procedurale e le operazioni vengono \n",
    "eseguite in maniera consequenziale. In questo caso, il print() non trova la variabile\n",
    "roberto poichè questa è stata dichiarata dopo la funzione."
   ]
  },
  {
   "cell_type": "markdown",
   "id": "61d55417-98bb-4914-bdd4-3f042762f7a8",
   "metadata": {},
   "source": [
    "### SyntaxError:"
   ]
  },
  {
   "cell_type": "markdown",
   "id": "39850dab-edf1-41b1-b77c-9ed236aba949",
   "metadata": {},
   "source": [
    "Il SyntaxError si verifica a seguito di errori di sintassi. Vediamo subito degli esempi pratici:"
   ]
  },
  {
   "cell_type": "code",
   "execution_count": 2,
   "id": "e0fc0d98-a68e-462a-b333-b508eb2d0615",
   "metadata": {},
   "outputs": [
    {
     "ename": "SyntaxError",
     "evalue": "incomplete input (1982670319.py, line 2)",
     "output_type": "error",
     "traceback": [
      "\u001b[0;36m  Cell \u001b[0;32mIn[2], line 2\u001b[0;36m\u001b[0m\n\u001b[0;31m    \u001b[0m\n\u001b[0m    ^\u001b[0m\n\u001b[0;31mSyntaxError\u001b[0m\u001b[0;31m:\u001b[0m incomplete input\n"
     ]
    }
   ],
   "source": [
    "\"\"\"    ^\n",
    "    SyntaxError: incomplete input\n",
    "\n",
    "\"\"\"\n",
    "print(\"hello world\""
   ]
  },
  {
   "cell_type": "markdown",
   "id": "31a9bcaf-b242-4301-88d6-fe513a0b1096",
   "metadata": {},
   "source": [
    "L'interprete di Python, analizza ciò che noi scriviamo secondo le regole della sua sintassi. Viene fatta \n",
    "un'operazione di \"parsing\", ovvero di analisi dei caratteri. L'interprete sa che ad una (prima o poi nel codice,\n",
    "dovrà corrispondere una ). Se non la trova, genererà errore."
   ]
  },
  {
   "cell_type": "code",
   "execution_count": 3,
   "id": "54ef5b28-fd94-4905-93a3-257ac0cc5d27",
   "metadata": {},
   "outputs": [
    {
     "ename": "SyntaxError",
     "evalue": "unterminated string literal (detected at line 1) (1441746771.py, line 1)",
     "output_type": "error",
     "traceback": [
      "\u001b[0;36m  Cell \u001b[0;32mIn[3], line 1\u001b[0;36m\u001b[0m\n\u001b[0;31m    print(\"aaaa)\u001b[0m\n\u001b[0m          ^\u001b[0m\n\u001b[0;31mSyntaxError\u001b[0m\u001b[0;31m:\u001b[0m unterminated string literal (detected at line 1)\n"
     ]
    }
   ],
   "source": [
    "\"\"\"\n",
    "    SyntaxError: unterminated string literal (detected at line 1)\n",
    "\"\"\"\n",
    "print(\"aaaa)\n",
    "      "
   ]
  },
  {
   "cell_type": "markdown",
   "id": "cb5faa90-4981-43e1-a46a-6f7d93d2f273",
   "metadata": {},
   "source": [
    "In questo caso, poprio per lo stesso concetto di prima, ci verrà comunicato che la stringa è incompleta \n",
    "e dovremo provvedere ad aggiungere \" alla fine.\n",
    "Sarà molto facile incorrere in questo tipo di errori e basta ricordarsi che ogni volta che troverete \n",
    "un SyntaxError, molto probabilmente avrete dimenticato o scritto male:  \n",
    "- parentesi \n",
    "- virgole \n",
    "- punti e doppi punti\n",
    "- singoli e doppi apici etc etc\n",
    "\n",
    "o che avrete invertito l'ordine di parentesi o nomi in indicizzazioni di liste o dichiarazioni di funzioni o che,\n",
    "semplicemente, avete scritto qualcosa privo di senso(per il nostro interprete, naturalmente):"
   ]
  },
  {
   "cell_type": "code",
   "execution_count": 46,
   "id": "4a1c1931-ef26-496a-aefe-9a2e7149d378",
   "metadata": {},
   "outputs": [
    {
     "data": {
      "text/plain": [
       "1"
      ]
     },
     "execution_count": 46,
     "metadata": {},
     "output_type": "execute_result"
    }
   ],
   "source": [
    "lista = [0,1,2,3]\n",
    "lista[1]"
   ]
  },
  {
   "cell_type": "markdown",
   "id": "9f777c16-3683-405b-b552-98d817f39324",
   "metadata": {},
   "source": [
    "non è uguale a"
   ]
  },
  {
   "cell_type": "code",
   "execution_count": 48,
   "id": "c62f0a94-6cf1-46fc-b29f-2796ac1e10c4",
   "metadata": {},
   "outputs": [
    {
     "ename": "SyntaxError",
     "evalue": "invalid syntax (2501165655.py, line 6)",
     "output_type": "error",
     "traceback": [
      "\u001b[0;36m  Cell \u001b[0;32mIn[48], line 6\u001b[0;36m\u001b[0m\n\u001b[0;31m    [1]lista\u001b[0m\n\u001b[0m       ^\u001b[0m\n\u001b[0;31mSyntaxError\u001b[0m\u001b[0;31m:\u001b[0m invalid syntax\n"
     ]
    }
   ],
   "source": [
    "\"\"\"\n",
    "    SyntaxError: invalid syntax\n",
    "\"\"\"\n",
    "\n",
    "lista = [0,1,2,3]\n",
    "[1]lista"
   ]
  },
  {
   "cell_type": "markdown",
   "id": "c5ce289d-a05a-47fe-a26f-cdbcd38ffc9c",
   "metadata": {},
   "source": [
    "Un caso molto comune può derivare da un utilizzo scorretto di apici e doppi apici:"
   ]
  },
  {
   "cell_type": "code",
   "execution_count": 32,
   "id": "48febe62-03ba-4fc7-b741-24f80732d420",
   "metadata": {},
   "outputs": [
    {
     "ename": "SyntaxError",
     "evalue": "unterminated string literal (detected at line 1) (3033170022.py, line 1)",
     "output_type": "error",
     "traceback": [
      "\u001b[0;36m  Cell \u001b[0;32mIn[32], line 1\u001b[0;36m\u001b[0m\n\u001b[0;31m    frase = 'All'ammore'\u001b[0m\n\u001b[0m                       ^\u001b[0m\n\u001b[0;31mSyntaxError\u001b[0m\u001b[0;31m:\u001b[0m unterminated string literal (detected at line 1)\n"
     ]
    }
   ],
   "source": [
    "frase = 'All'ammore'"
   ]
  },
  {
   "cell_type": "markdown",
   "id": "f0e5d2da-1f77-4282-8b91-0c9d27b52be5",
   "metadata": {},
   "source": [
    "in questo esempio l'interpete troverà un numero dispari di singoli apici e non sarà in grado di distinguere quale sia l'inizio e quale la fine della stringa.  \n",
    "Utilizziamo i singoli apici attorno la stringa se prevediamo di utilizzare i doppi apici al suo interno e viceversa.  \n",
    "Ricordiamo però che Python predilige i doppi apici.  \n",
    "E se voglio scrivere un quote con dentro un apostrofo?  \n",
    "In questo caso ci verrà incontro il backslash \\ .  \n",
    "Combinarlo con alcune lettere o simboli ci farà di ottenere la cosìdetta sequenza(o carattere) di escape e ci permetterà\n",
    "di inserire caratteri non stampabili o speciali all'interno della stringa:"
   ]
  },
  {
   "cell_type": "code",
   "execution_count": 74,
   "id": "29835d61-1407-45d7-beb4-ca6b3a7a884b",
   "metadata": {},
   "outputs": [
    {
     "name": "stdout",
     "output_type": "stream",
     "text": [
      "\" All'ammore \"\n",
      "\tAll'ammore\n",
      "Allo \n",
      "ammore\n"
     ]
    }
   ],
   "source": [
    "frase = \"\\\" All'ammore \\\"\"\n",
    "print(frase)\n",
    "\n",
    "frase =\"\\tAll'ammore\"\n",
    "print(frase)\n",
    "\n",
    "frase =\"Allo \\nammore\"\n",
    "print(frase)\n",
    "\n",
    "# https://www.w3schools.com/python/gloss_python_escape_characters.asp"
   ]
  },
  {
   "cell_type": "markdown",
   "id": "1e7af91a-e292-41ef-96ad-68086b1c4384",
   "metadata": {},
   "source": [
    "### IndentationError:"
   ]
  },
  {
   "cell_type": "markdown",
   "id": "081a2c35-5635-4283-91ac-a88437895e0a",
   "metadata": {},
   "source": [
    "Chi non ha mai affrontato linguaggi a basso livello non può neanche immaginare\n",
    "quanto Python sia facile da apprendere ed utilizzare.  \n",
    "Tanta potenza però richiede che si rispettino\n",
    "dei criteri ben precisi e se vogliamo essere \"aiutati\" da Python, dobbiamo \"aiutare\" Python.   \n",
    "L'indentazione, ovvero la pratica di inserire ogni snippet(\"pezzi\" di codice) all'interno del \n",
    "suo \"scope\"(contesto), permette di evitare sintassi macchinose, ripetitive ed a molti indigeste, \n",
    "ma va rispettato con rigore. "
   ]
  },
  {
   "cell_type": "code",
   "execution_count": 5,
   "id": "e1410e0a-86ae-4838-b798-81b3a1b86ee5",
   "metadata": {},
   "outputs": [
    {
     "ename": "IndentationError",
     "evalue": "expected an indented block after 'for' statement on line 1 (2545383478.py, line 2)",
     "output_type": "error",
     "traceback": [
      "\u001b[0;36m  Cell \u001b[0;32mIn[5], line 2\u001b[0;36m\u001b[0m\n\u001b[0;31m    print(x)\u001b[0m\n\u001b[0m    ^\u001b[0m\n\u001b[0;31mIndentationError\u001b[0m\u001b[0;31m:\u001b[0m expected an indented block after 'for' statement on line 1\n"
     ]
    }
   ],
   "source": [
    "\"\"\"\n",
    "    IndentationError: expected an indented block after 'for' statement on line 1\n",
    "\"\"\"\n",
    "\n",
    "for x in range(1,10):\n",
    "print(x)\n",
    "    "
   ]
  },
  {
   "cell_type": "markdown",
   "id": "7775a07d-9c61-42e2-96e1-fce4b7c0ee0b",
   "metadata": {},
   "source": [
    "L'interprete si aspetta che dopo : nella riga successiva si inizi a scrivere solo \n",
    "dopo 4 spazi(tasto TAB nella tastiera) nello scope del ciclo for.  \n",
    "E' il metodo che gli sviluppatori python(e non solo loro) hanno adottato \n",
    "per distinguere le varie \"sezioni\" del codice, in modo da non far entrare in \n",
    "conflitto funzioni, cicli etc etc e rendere tutto più leggibile.  \n",
    "Imparare l'utilizzo corretto dell'indentazione è fondamentale per lavorare con Python. \n",
    "\n",
    "Analizziamo un caso interessante:\n",
    "\n",
    "Supponiamo di voler visualizzare il numero num per 10 volte e di volerlo incrementare ad ogni ciclo.\n",
    "\n",
    "Facciamo il run su questa cella:"
   ]
  },
  {
   "cell_type": "code",
   "execution_count": 7,
   "id": "abb8c184-7aca-421b-a695-f3bef420c394",
   "metadata": {},
   "outputs": [
    {
     "name": "stdout",
     "output_type": "stream",
     "text": [
      "0\n",
      "0\n",
      "0\n",
      "0\n",
      "0\n",
      "0\n",
      "0\n",
      "0\n",
      "0\n",
      "0\n",
      "1\n"
     ]
    }
   ],
   "source": [
    "num = 0\n",
    "\n",
    "for x in range(10):\n",
    "\n",
    "    print(num)\n",
    "\n",
    "num += 1 # fuori dallo scope di for\n",
    "\n",
    "print(num)"
   ]
  },
  {
   "cell_type": "markdown",
   "id": "b4ecd485-c5ae-45f5-9f4e-081269b5e3ad",
   "metadata": {},
   "source": [
    "L'incremento avviene fuori dallo \"scope\" del ciclo e quindi avviene solo dopo che \n",
    "questo si è concluso. Il codice limiterà ad incrementare num solo una volta e \n",
    "poi lo stamperà a schermo.  \n",
    "Bisogna sempre seguire buone pratiche di indentazione o Python potrebbe tradirci. \n",
    "E dato che in questi casi non ci sono errori di sintassi,non ci sarà nessuno \n",
    "ad \"avvisarci\" della nostra distrazione.\n",
    "\n",
    "Questo quel che succede rispettando l'indentazione di for nel codice precedente:"
   ]
  },
  {
   "cell_type": "code",
   "execution_count": 58,
   "id": "000c0c15-6ae1-4ce2-8520-47bf4a6d071f",
   "metadata": {},
   "outputs": [
    {
     "name": "stdout",
     "output_type": "stream",
     "text": [
      "0\n",
      "1\n",
      "2\n",
      "3\n",
      "4\n",
      "5\n",
      "6\n",
      "7\n",
      "8\n",
      "9\n",
      "10\n"
     ]
    }
   ],
   "source": [
    "num = 0\n",
    "\n",
    "for x in range(10):\n",
    "\n",
    "    print(num)\n",
    "\n",
    "    num += 1 # dentro lo scope di for\n",
    "\n",
    "print(num)"
   ]
  },
  {
   "cell_type": "markdown",
   "id": "aef39ab5-3678-4eb8-a017-45a58b5ed9dc",
   "metadata": {},
   "source": [
    "Mooolto meglio, non credete? :D"
   ]
  },
  {
   "cell_type": "markdown",
   "id": "c2a3f9be-5910-4bd3-8056-0e38c3d7393b",
   "metadata": {},
   "source": [
    "### TypeError: "
   ]
  },
  {
   "cell_type": "markdown",
   "id": "60cc4381-a31e-484d-9fac-1650b5453861",
   "metadata": {},
   "source": [
    "I Type Error sono errori che si presentano quando stiamo tentando di compiere operazioni su formati che non le supportano.  \n",
    "Vediamo di cosa si parla:"
   ]
  },
  {
   "cell_type": "code",
   "execution_count": 8,
   "id": "ed58f35a-f9da-4fb2-a7dd-584c23cb160b",
   "metadata": {},
   "outputs": [
    {
     "ename": "TypeError",
     "evalue": "unsupported operand type(s) for +: 'int' and 'str'",
     "output_type": "error",
     "traceback": [
      "\u001b[0;31m---------------------------------------------------------------------------\u001b[0m",
      "\u001b[0;31mTypeError\u001b[0m                                 Traceback (most recent call last)",
      "Cell \u001b[0;32mIn[8], line 4\u001b[0m\n\u001b[1;32m      1\u001b[0m a \u001b[38;5;241m=\u001b[39m \u001b[38;5;241m1\u001b[39m\n\u001b[1;32m      2\u001b[0m b \u001b[38;5;241m=\u001b[39m \u001b[38;5;124m\"\u001b[39m\u001b[38;5;124m2\u001b[39m\u001b[38;5;124m\"\u001b[39m\n\u001b[0;32m----> 4\u001b[0m \u001b[38;5;28mprint\u001b[39m(\u001b[43ma\u001b[49m\u001b[43m \u001b[49m\u001b[38;5;241;43m+\u001b[39;49m\u001b[43m \u001b[49m\u001b[43mb\u001b[49m)\n",
      "\u001b[0;31mTypeError\u001b[0m: unsupported operand type(s) for +: 'int' and 'str'"
     ]
    }
   ],
   "source": [
    "\"\"\"\n",
    "    TypeError: unsupported operand type(s) for +: 'int' and 'str'\"\"\"\n",
    "\n",
    "a = 1\n",
    "b = \"2\"\n",
    "\n",
    "print(a + b)"
   ]
  },
  {
   "cell_type": "markdown",
   "id": "1d20fe95-5e15-4834-98f5-a77a7b04b135",
   "metadata": {},
   "source": [
    "In questo esempio, stiamo provando a sommare un intero ad una stringa.  \n",
    "Questa operazione non è possibile in Python. Il tipo string infatti supporta la somma \n",
    "solo se avviene tra stringhe e si limiterà ad unire i caratteri."
   ]
  },
  {
   "cell_type": "code",
   "execution_count": 14,
   "id": "3b0ab5f6-1831-45db-9398-2932ad80ada1",
   "metadata": {},
   "outputs": [
    {
     "ename": "TypeError",
     "evalue": "'int' object is not iterable",
     "output_type": "error",
     "traceback": [
      "\u001b[0;31m---------------------------------------------------------------------------\u001b[0m",
      "\u001b[0;31mTypeError\u001b[0m                                 Traceback (most recent call last)",
      "Cell \u001b[0;32mIn[14], line 5\u001b[0m\n\u001b[1;32m      1\u001b[0m \u001b[38;5;124;03m\"\"\"\u001b[39;00m\n\u001b[1;32m      2\u001b[0m \u001b[38;5;124;03m    TypeError: 'int' object is not iterable\u001b[39;00m\n\u001b[1;32m      3\u001b[0m \u001b[38;5;124;03m\"\"\"\u001b[39;00m\n\u001b[0;32m----> 5\u001b[0m \u001b[38;5;28mprint\u001b[39m(\u001b[38;5;28;43msum\u001b[39;49m\u001b[43m(\u001b[49m\u001b[38;5;241;43m1\u001b[39;49m\u001b[43m \u001b[49m\u001b[38;5;241;43m+\u001b[39;49m\u001b[43m \u001b[49m\u001b[38;5;241;43m2\u001b[39;49m\u001b[43m)\u001b[49m)\n",
      "\u001b[0;31mTypeError\u001b[0m: 'int' object is not iterable"
     ]
    }
   ],
   "source": [
    "\"\"\"\n",
    "    TypeError: 'int' object is not iterable\n",
    "\"\"\"\n",
    "\n",
    "print(sum(1 + 2))\n",
    "      "
   ]
  },
  {
   "cell_type": "code",
   "execution_count": 15,
   "id": "ea24e2b4-08ad-40e0-9508-2d33ef85bbb4",
   "metadata": {},
   "outputs": [
    {
     "ename": "TypeError",
     "evalue": "can only join an iterable",
     "output_type": "error",
     "traceback": [
      "\u001b[0;31m---------------------------------------------------------------------------\u001b[0m",
      "\u001b[0;31mTypeError\u001b[0m                                 Traceback (most recent call last)",
      "Cell \u001b[0;32mIn[15], line 5\u001b[0m\n\u001b[1;32m      1\u001b[0m \u001b[38;5;124;03m\"\"\"\u001b[39;00m\n\u001b[1;32m      2\u001b[0m \u001b[38;5;124;03m    TypeError: 'int' object is not iterable\u001b[39;00m\n\u001b[1;32m      3\u001b[0m \u001b[38;5;124;03m\"\"\"\u001b[39;00m\n\u001b[0;32m----> 5\u001b[0m \u001b[38;5;124;43m\"\u001b[39;49m\u001b[38;5;124;43m-\u001b[39;49m\u001b[38;5;124;43m\"\u001b[39;49m\u001b[38;5;241;43m.\u001b[39;49m\u001b[43mjoin\u001b[49m\u001b[43m(\u001b[49m\u001b[38;5;241;43m1989\u001b[39;49m\u001b[43m)\u001b[49m\n",
      "\u001b[0;31mTypeError\u001b[0m: can only join an iterable"
     ]
    }
   ],
   "source": [
    "\"\"\"\n",
    "    TypeError: 'int' object is not iterable\n",
    "\"\"\"\n",
    "\n",
    "\"-\".join(1989)\n"
   ]
  },
  {
   "cell_type": "markdown",
   "id": "55755828-278d-4ba7-92b5-e54fe4c259cd",
   "metadata": {},
   "source": [
    "In questi due esempi stiamo provando ad utilizzare delle funzioni che prendono come \n",
    "argomento degli iterabili. Un iterabile è una collezione di dati sulla quale \n",
    "si può effettuare una ciclazione. Una stringa, una lista, una tupla, un dict etc ect\n",
    "sono iterabili.\n",
    "La funzione sum() prende come argomento un iterabile e somma i valori(solo se numerici) \n",
    "al suo interno. \n",
    "La somma 1 + 2, restituisce un intero ed un intero non è un iterabile.\n",
    "Se mettessimo i valori 1 e 2 dentro una lista o un tupla, separati da una virgola, \n",
    "staremmo dando alla funzione un iterabile come argomento e la funzione darebbe il risultato\n",
    "voluto:"
   ]
  },
  {
   "cell_type": "code",
   "execution_count": 77,
   "id": "34ec0c35-bb61-425d-b516-599eea0c5cc1",
   "metadata": {},
   "outputs": [
    {
     "name": "stdout",
     "output_type": "stream",
     "text": [
      "somma lista 3\n",
      "somma tupla 3\n"
     ]
    }
   ],
   "source": [
    "print(\"somma lista\", sum([1,2])) # i numeri sono dentro una lista    \n",
    "print(\"somma tupla\", sum((1,2))) # i numeri sono dentro una tupla\n"
   ]
  },
  {
   "cell_type": "markdown",
   "id": "e407f0d5-cb16-49eb-85fa-44f9c310f576",
   "metadata": {},
   "source": [
    "La funzione join() prende come argomento un iterabile e alterna\n",
    "i suoi valori(stringhe o caratteri) ad una stringa \n",
    "\"separatore\" restituendo a sua volta una stringa.\n",
    "Se proviamo ad inserire il valore 1989 tra doppi apici, trasformandolo in \n",
    "una stringa, vedremo la funzione join() funzionare magicamente:"
   ]
  },
  {
   "cell_type": "code",
   "execution_count": 16,
   "id": "5897e13b-515c-4d68-aff6-50c25a58dfd4",
   "metadata": {},
   "outputs": [
    {
     "data": {
      "text/plain": [
       "'1-9-8-9'"
      ]
     },
     "execution_count": 16,
     "metadata": {},
     "output_type": "execute_result"
    }
   ],
   "source": [
    "\"-\".join(\"1989\")"
   ]
  },
  {
   "cell_type": "markdown",
   "id": "d20f4908-f9a6-4dc0-bf95-d055195c79d4",
   "metadata": {},
   "source": [
    "Altro caso tipico di TypeError:"
   ]
  },
  {
   "cell_type": "code",
   "execution_count": 27,
   "id": "589cfaef-c2ec-4e1e-bb9a-32c74c89e2af",
   "metadata": {},
   "outputs": [
    {
     "ename": "TypeError",
     "evalue": "'tuple' object does not support item assignment",
     "output_type": "error",
     "traceback": [
      "\u001b[0;31m---------------------------------------------------------------------------\u001b[0m",
      "\u001b[0;31mTypeError\u001b[0m                                 Traceback (most recent call last)",
      "Cell \u001b[0;32mIn[27], line 3\u001b[0m\n\u001b[1;32m      1\u001b[0m tupla \u001b[38;5;241m=\u001b[39m (\u001b[38;5;241m1\u001b[39m,\u001b[38;5;241m2\u001b[39m,\u001b[38;5;241m3\u001b[39m,\u001b[38;5;241m4\u001b[39m,\u001b[38;5;241m5\u001b[39m)\n\u001b[0;32m----> 3\u001b[0m \u001b[43mtupla\u001b[49m\u001b[43m[\u001b[49m\u001b[38;5;241;43m0\u001b[39;49m\u001b[43m]\u001b[49m \u001b[38;5;241m=\u001b[39m \u001b[38;5;241m4\u001b[39m\n",
      "\u001b[0;31mTypeError\u001b[0m: 'tuple' object does not support item assignment"
     ]
    }
   ],
   "source": [
    "\"\"\"\n",
    "    TypeError: 'tuple' object does not support item assignment\n",
    "\"\"\"\n",
    "\n",
    "tupla = (1,2,3,4,5)\n",
    "\n",
    "tupla[0] = 4"
   ]
  },
  {
   "cell_type": "markdown",
   "id": "4a48ce9a-c0f4-4549-8055-24e038182a21",
   "metadata": {},
   "source": [
    "In questo caso, stiamo provando ad assegnare tramite indexing un valore alla tupla.  \n",
    "La tupla, una volta dichiarata, non consente nessun genere di modifica"
   ]
  },
  {
   "cell_type": "markdown",
   "id": "c3ac3659-5918-4617-8a4e-8b97a174019b",
   "metadata": {},
   "source": [
    "Come si fa dunque ad imparare a difendersi dai TypeError???  \n",
    "Con molta pratica riconoscere formati e proprietà dei formati standard diventerà un'operazione \n",
    "quasi(e ribadisco quasi :D) del tutto scontata. Prima di allora è bene utilizzare quanto il più possibile \n",
    "(è aggratis!!!!), la funzione type() e andare a cercare sulla rete proprietà e attributi relativi ad ogni classe."
   ]
  },
  {
   "cell_type": "code",
   "execution_count": 24,
   "id": "368628ac-5051-4dee-9262-f0d69c653ea6",
   "metadata": {},
   "outputs": [
    {
     "name": "stdout",
     "output_type": "stream",
     "text": [
      "<class 'int'>\n",
      "<class 'str'>\n",
      "<class 'list'>\n",
      "<class 'builtin_function_or_method'>\n"
     ]
    }
   ],
   "source": [
    "intero = 1\n",
    "stringa = \"aaaa\"\n",
    "lista = [1,2,3,4]\n",
    "\n",
    "print(type(intero))\n",
    "print(type(stringa))\n",
    "print(type(lista))\n",
    "\n",
    "#si può usare anche con funzioni, oggetti etc etc!!!!!\n",
    "print(type(sum))"
   ]
  },
  {
   "cell_type": "markdown",
   "id": "5c4d5498-12be-45e7-864e-5d45239c5e40",
   "metadata": {},
   "source": [
    "Vediamo un altro caso:"
   ]
  },
  {
   "cell_type": "code",
   "execution_count": 53,
   "id": "6b340a7e-88d2-4e22-93c5-13ebe8a3a4c9",
   "metadata": {},
   "outputs": [
    {
     "ename": "TypeError",
     "evalue": "'builtin_function_or_method' object is not subscriptable",
     "output_type": "error",
     "traceback": [
      "\u001b[0;31m---------------------------------------------------------------------------\u001b[0m",
      "\u001b[0;31mTypeError\u001b[0m                                 Traceback (most recent call last)",
      "Cell \u001b[0;32mIn[53], line 8\u001b[0m\n\u001b[1;32m      1\u001b[0m \u001b[38;5;124;03m\"\"\"\u001b[39;00m\n\u001b[1;32m      2\u001b[0m \u001b[38;5;124;03m    TypeError: 'builtin_function_or_method' object is not subscriptable\u001b[39;00m\n\u001b[1;32m      3\u001b[0m \u001b[38;5;124;03m\"\"\"\u001b[39;00m\n\u001b[1;32m      6\u001b[0m lista \u001b[38;5;241m=\u001b[39m [\u001b[38;5;241m1\u001b[39m,\u001b[38;5;241m2\u001b[39m,\u001b[38;5;241m3\u001b[39m,\u001b[38;5;241m4\u001b[39m,\u001b[38;5;241m5\u001b[39m]\n\u001b[0;32m----> 8\u001b[0m \u001b[38;5;28mprint\u001b[39m(\u001b[38;5;28;43mmax\u001b[39;49m\u001b[43m[\u001b[49m\u001b[43mlista\u001b[49m\u001b[43m]\u001b[49m)\n",
      "\u001b[0;31mTypeError\u001b[0m: 'builtin_function_or_method' object is not subscriptable"
     ]
    }
   ],
   "source": [
    "\"\"\"\n",
    "    TypeError: 'builtin_function_or_method' object is not subscriptable\n",
    "\"\"\"\n",
    "\n",
    "\n",
    "lista = [1,2,3,4,5]\n",
    "\n",
    "print(max[lista])"
   ]
  },
  {
   "cell_type": "markdown",
   "id": "300735e5-58f8-4cb0-93e3-c43165591cd7",
   "metadata": {},
   "source": [
    "Se al posto delle () mettiamo [] dopo la funzione, il parser si aspetterà che quello \n",
    "a cui si riferiscono le parentesi sia un iterabile.\n",
    "Cercherà dunque di \"indicizzare\" la funzione e non potrà farlo."
   ]
  },
  {
   "cell_type": "code",
   "execution_count": 54,
   "id": "da38dd4f-e261-4f9a-9fcd-f705b57185da",
   "metadata": {},
   "outputs": [
    {
     "ename": "TypeError",
     "evalue": "'list' object is not callable",
     "output_type": "error",
     "traceback": [
      "\u001b[0;31m---------------------------------------------------------------------------\u001b[0m",
      "\u001b[0;31mTypeError\u001b[0m                                 Traceback (most recent call last)",
      "Cell \u001b[0;32mIn[54], line 3\u001b[0m\n\u001b[1;32m      1\u001b[0m lista \u001b[38;5;241m=\u001b[39m [\u001b[38;5;241m1\u001b[39m,\u001b[38;5;241m2\u001b[39m,\u001b[38;5;241m3\u001b[39m,\u001b[38;5;241m4\u001b[39m,\u001b[38;5;241m5\u001b[39m]\n\u001b[0;32m----> 3\u001b[0m \u001b[38;5;28mprint\u001b[39m(\u001b[43mlista\u001b[49m\u001b[43m(\u001b[49m\u001b[38;5;241;43m3\u001b[39;49m\u001b[43m)\u001b[49m)\n",
      "\u001b[0;31mTypeError\u001b[0m: 'list' object is not callable"
     ]
    }
   ],
   "source": [
    "lista = [1,2,3,4,5]\n",
    "\n",
    "print(lista(3))"
   ]
  },
  {
   "cell_type": "markdown",
   "id": "92da81ac-3cd3-4c3b-8a8b-4ea557597e19",
   "metadata": {},
   "source": [
    "Allo stesso modo, se ad un iterabile faremo seguire () il messaggio ci dirà \"is not callable\".\n",
    "Questo avviene perchè in questo caso il parser intepreta () come chiamata ad una funzione.\n"
   ]
  },
  {
   "cell_type": "markdown",
   "id": "f7f083cb-7a5d-4a66-aa2f-4fd5048d8a53",
   "metadata": {},
   "source": [
    "### AttributeError:"
   ]
  },
  {
   "cell_type": "markdown",
   "id": "34b9578b-423c-44b3-a78c-11f52bc2ae9b",
   "metadata": {},
   "source": [
    "Simile al TypeError è l'AttributeError:"
   ]
  },
  {
   "cell_type": "code",
   "execution_count": 25,
   "id": "498293bf-a70b-4e1e-8e7f-c8ed028135ee",
   "metadata": {},
   "outputs": [
    {
     "ename": "AttributeError",
     "evalue": "'tuple' object has no attribute 'pop'",
     "output_type": "error",
     "traceback": [
      "\u001b[0;31m---------------------------------------------------------------------------\u001b[0m",
      "\u001b[0;31mAttributeError\u001b[0m                            Traceback (most recent call last)",
      "Cell \u001b[0;32mIn[25], line 3\u001b[0m\n\u001b[1;32m      1\u001b[0m tupla \u001b[38;5;241m=\u001b[39m (\u001b[38;5;241m1\u001b[39m,\u001b[38;5;241m2\u001b[39m,\u001b[38;5;241m3\u001b[39m,\u001b[38;5;241m4\u001b[39m,\u001b[38;5;241m5\u001b[39m)\n\u001b[0;32m----> 3\u001b[0m \u001b[43mtupla\u001b[49m\u001b[38;5;241;43m.\u001b[39;49m\u001b[43mpop\u001b[49m()\n",
      "\u001b[0;31mAttributeError\u001b[0m: 'tuple' object has no attribute 'pop'"
     ]
    }
   ],
   "source": [
    "tupla = (1,2,3,4,5)\n",
    "\n",
    "tupla.pop()"
   ]
  },
  {
   "cell_type": "markdown",
   "id": "5ff05455-5dae-40f7-b006-dd80305ece06",
   "metadata": {},
   "source": [
    "In questo caso, sto tentando di utilizzare un metodo delle liste con una tupla. Il metodo viene \n",
    "dunque attribuito al formato errato. "
   ]
  },
  {
   "cell_type": "markdown",
   "id": "7149fdc9-4ac4-4b97-81af-ced44c93654d",
   "metadata": {},
   "source": [
    "Vediamo un caso interessante:"
   ]
  },
  {
   "cell_type": "code",
   "execution_count": 29,
   "id": "53c4a82a-9668-4572-91d3-4580fb65ade8",
   "metadata": {},
   "outputs": [
    {
     "data": {
      "text/plain": [
       "2"
      ]
     },
     "execution_count": 29,
     "metadata": {},
     "output_type": "execute_result"
    }
   ],
   "source": [
    "parola = \"Eremo\"\n",
    "\n",
    "parola.lower().count(\"e\")"
   ]
  },
  {
   "cell_type": "markdown",
   "id": "082aac0f-4a33-4182-9843-c68adb11c277",
   "metadata": {},
   "source": [
    "In questo esempio stiamo concatenando due funzioni. La funzione .lower() restituirà una stringa \n",
    "identica alla prima ma in minuscolo. count() è una funzione che trova un valore in un iterabile \n",
    "e ne conta le occorrenze. Le stringhe, come detto , sono iterabili e count() ricevendo la stringa \n",
    "modificata da lower(), sarà in grado di fare il suo lavoro.  \n",
    "Ma cosa succede se inverto le funzioni???"
   ]
  },
  {
   "cell_type": "code",
   "execution_count": 31,
   "id": "141b7ce0-d497-48b6-8c04-32747babed10",
   "metadata": {},
   "outputs": [
    {
     "ename": "AttributeError",
     "evalue": "'int' object has no attribute 'lower'",
     "output_type": "error",
     "traceback": [
      "\u001b[0;31m---------------------------------------------------------------------------\u001b[0m",
      "\u001b[0;31mAttributeError\u001b[0m                            Traceback (most recent call last)",
      "Cell \u001b[0;32mIn[31], line 7\u001b[0m\n\u001b[1;32m      1\u001b[0m \u001b[38;5;124;03m\"\"\"\u001b[39;00m\n\u001b[1;32m      2\u001b[0m \u001b[38;5;124;03m    TypeError: count() takes at least 1 argument (0 given)\u001b[39;00m\n\u001b[1;32m      3\u001b[0m \u001b[38;5;124;03m\"\"\"\u001b[39;00m    \n\u001b[1;32m      5\u001b[0m parola \u001b[38;5;241m=\u001b[39m \u001b[38;5;124m\"\u001b[39m\u001b[38;5;124mEremo\u001b[39m\u001b[38;5;124m\"\u001b[39m\n\u001b[0;32m----> 7\u001b[0m \u001b[43mparola\u001b[49m\u001b[38;5;241;43m.\u001b[39;49m\u001b[43mcount\u001b[49m\u001b[43m(\u001b[49m\u001b[38;5;124;43m\"\u001b[39;49m\u001b[38;5;124;43me\u001b[39;49m\u001b[38;5;124;43m\"\u001b[39;49m\u001b[43m)\u001b[49m\u001b[38;5;241;43m.\u001b[39;49m\u001b[43mlower\u001b[49m()\n",
      "\u001b[0;31mAttributeError\u001b[0m: 'int' object has no attribute 'lower'"
     ]
    }
   ],
   "source": [
    "\"\"\"    \n",
    "    AttributeError: 'int' object has no attribute 'lower'\n",
    "\"\"\"    \n",
    "\n",
    "parola = \"Eremo\"\n",
    "\n",
    "parola.count(\"e\").lower()"
   ]
  },
  {
   "cell_type": "markdown",
   "id": "cc4eea4b-1407-47b6-937b-32727ea8cf2d",
   "metadata": {},
   "source": [
    "In questo caso la prima funzione ad essere eseguita è count() che restituirà un intero, lower() aspettandosi \n",
    "una stringa darà errore e verremo gentilmente avvisati di aver fatto un po' di confusione. "
   ]
  },
  {
   "cell_type": "markdown",
   "id": "2c64f1c1-7fc7-471d-b5a9-5e50a5b6a4f3",
   "metadata": {},
   "source": [
    "### IndexError e KeyError:"
   ]
  },
  {
   "cell_type": "markdown",
   "id": "eaca2627-7298-4e39-ac04-c50096bd1eee",
   "metadata": {},
   "source": [
    "Errori complementari tra loro sono IndexError e KeyError. Vediamo di cosa si tratta:"
   ]
  },
  {
   "cell_type": "code",
   "execution_count": 33,
   "id": "93b09f6d-7e90-40b4-b84f-791b350df657",
   "metadata": {},
   "outputs": [
    {
     "ename": "IndexError",
     "evalue": "list index out of range",
     "output_type": "error",
     "traceback": [
      "\u001b[0;31m---------------------------------------------------------------------------\u001b[0m",
      "\u001b[0;31mIndexError\u001b[0m                                Traceback (most recent call last)",
      "Cell \u001b[0;32mIn[33], line 3\u001b[0m\n\u001b[1;32m      1\u001b[0m lista \u001b[38;5;241m=\u001b[39m [\u001b[38;5;241m1\u001b[39m,\u001b[38;5;241m2\u001b[39m,\u001b[38;5;241m3\u001b[39m,\u001b[38;5;241m4\u001b[39m,\u001b[38;5;241m5\u001b[39m,\u001b[38;5;241m6\u001b[39m,\u001b[38;5;241m7\u001b[39m]\n\u001b[0;32m----> 3\u001b[0m \u001b[43mlista\u001b[49m\u001b[43m[\u001b[49m\u001b[38;5;241;43m9\u001b[39;49m\u001b[43m]\u001b[49m\n",
      "\u001b[0;31mIndexError\u001b[0m: list index out of range"
     ]
    }
   ],
   "source": [
    "\"\"\"\n",
    "    IndexError: list index out of range\n",
    "\"\"\"\n",
    "\n",
    "lista = [1,2,3,4,5,6,7]\n",
    "\n",
    "lista[9]\n"
   ]
  },
  {
   "cell_type": "markdown",
   "id": "84392c67-0d5c-4161-a63a-f585d7966495",
   "metadata": {},
   "source": [
    "Ci si imbatte in questo errore molto spesso in contesto di for e while, quando si cerca di \n",
    "ciclare su in iterabile e non se ne controlla bene l'indexing."
   ]
  },
  {
   "cell_type": "markdown",
   "id": "0c07c95f-f929-4272-8dff-7715a44f8ef1",
   "metadata": {},
   "source": [
    "Caso \"estremo\" che vi costringerà a chiudere terminale o jupyter senza \n",
    "nessuna delicatezza, è questo:  \n",
    "\n",
    "count = 0  \n",
    "\n",
    "while count < 9:  \n",
    "\n",
    "    print(count)  \n",
    "\n",
    "l'assenza di un incremento di count, porterà il ciclo ad effettuare una verifica\n",
    "su di un valore che resta sempre fisso.  \n",
    "Leggiamo questo ciclo come \"finchè count è minore di 9, stampa count\".\n",
    "Count sarà sempre minore di nove ed il ciclo andrà in loop e non\n",
    "sarà in grado di riconoscere l'errore.  \n",
    "Se fate il run su jupyter andrà in crash, ma se volete provare....\n",
    "salvate prima tutto e dopo averlo lanciato fate un bel refresh e \n",
    "torna tutto come prima(speriamo :D)\n",
    "\n",
    "Adesso vediamo i KeyError, simili agli IndexError ma relativi alle chiavi dei dizionari:"
   ]
  },
  {
   "cell_type": "code",
   "execution_count": 89,
   "id": "351d20d6-ffed-4cb7-bbab-394df6c4fdd2",
   "metadata": {},
   "outputs": [
    {
     "ename": "KeyError",
     "evalue": "'Nome'",
     "output_type": "error",
     "traceback": [
      "\u001b[0;31m---------------------------------------------------------------------------\u001b[0m",
      "\u001b[0;31mKeyError\u001b[0m                                  Traceback (most recent call last)",
      "Cell \u001b[0;32mIn[89], line 10\u001b[0m\n\u001b[1;32m      5\u001b[0m \u001b[38;5;167;01mKeyError\u001b[39;00m: \u001b[38;5;124m'\u001b[39m\u001b[38;5;124mNome\u001b[39m\u001b[38;5;124m'\u001b[39m    \n\u001b[1;32m      6\u001b[0m dizionario \u001b[38;5;241m=\u001b[39m { \u001b[38;5;124m\"\u001b[39m\u001b[38;5;124mnome\u001b[39m\u001b[38;5;124m\"\u001b[39m : \u001b[38;5;124m\"\u001b[39m\u001b[38;5;124mJohn\u001b[39m\u001b[38;5;124m\"\u001b[39m,\n\u001b[1;32m      7\u001b[0m               \u001b[38;5;124m\"\u001b[39m\u001b[38;5;124mcognome\u001b[39m\u001b[38;5;124m\"\u001b[39m : \u001b[38;5;124m\"\u001b[39m\u001b[38;5;124mPaul Jones\u001b[39m\u001b[38;5;124m\"\u001b[39m,\n\u001b[1;32m      8\u001b[0m               \u001b[38;5;124m\"\u001b[39m\u001b[38;5;124mprofessione\u001b[39m\u001b[38;5;124m\"\u001b[39m: \u001b[38;5;124m\"\u001b[39m\u001b[38;5;124mDivinità Pagana\u001b[39m\u001b[38;5;124m\"\u001b[39m\n\u001b[1;32m      9\u001b[0m             }\n\u001b[0;32m---> 10\u001b[0m \u001b[38;5;28mprint\u001b[39m(\u001b[43mdizionario\u001b[49m\u001b[43m[\u001b[49m\u001b[38;5;124;43m\"\u001b[39;49m\u001b[38;5;124;43mNome\u001b[39;49m\u001b[38;5;124;43m\"\u001b[39;49m\u001b[43m]\u001b[49m)\n",
      "\u001b[0;31mKeyError\u001b[0m: 'Nome'"
     ]
    }
   ],
   "source": [
    "\"\"\"\n",
    "    KeyError: 'Nome'\n",
    "\"\"\"\n",
    "\n",
    "KeyError: 'Nome'    \n",
    "dizionario = { \"nome\" : \"John\",\n",
    "              \"cognome\" : \"Paul Jones\",\n",
    "              \"professione\": \"Divinità Pagana\"\n",
    "            }\n",
    "print(dizionario[\"Nome\"])"
   ]
  },
  {
   "cell_type": "markdown",
   "id": "fb556358-54a3-432b-b8aa-320d9b3f22e9",
   "metadata": {},
   "source": [
    "Modificare anche un solo carattere della stringa non farà trovare la chiave richiesta. \n",
    "Il carattere \"E\" e il carattere \"e\" verranno considerati come caratteri differenti poichè \n",
    "le stringhe in Python(ed in parecchi altri linguaggi e contesti) sono \"case-sensitive\".\n",
    "Analizziamo un altro caso:"
   ]
  },
  {
   "cell_type": "code",
   "execution_count": 67,
   "id": "dd667389-c372-4cea-9d83-27a3643de0f0",
   "metadata": {},
   "outputs": [
    {
     "ename": "NameError",
     "evalue": "name 'professione' is not defined",
     "output_type": "error",
     "traceback": [
      "\u001b[0;31m---------------------------------------------------------------------------\u001b[0m",
      "\u001b[0;31mNameError\u001b[0m                                 Traceback (most recent call last)",
      "Cell \u001b[0;32mIn[67], line 7\u001b[0m\n\u001b[1;32m      1\u001b[0m \u001b[38;5;124;03m\"\"\"\u001b[39;00m\n\u001b[1;32m      2\u001b[0m \u001b[38;5;124;03m    NameError: name 'professione' is not defined\u001b[39;00m\n\u001b[1;32m      3\u001b[0m \u001b[38;5;124;03m\"\"\"\u001b[39;00m\n\u001b[1;32m      4\u001b[0m dizionario \u001b[38;5;241m=\u001b[39m {\n\u001b[1;32m      5\u001b[0m                 \u001b[38;5;124m\"\u001b[39m\u001b[38;5;124mnome\u001b[39m\u001b[38;5;124m\"\u001b[39m: \u001b[38;5;124m\"\u001b[39m\u001b[38;5;124mCarlo\u001b[39m\u001b[38;5;124m\"\u001b[39m,\n\u001b[1;32m      6\u001b[0m                 \u001b[38;5;124m\"\u001b[39m\u001b[38;5;124mcognome\u001b[39m\u001b[38;5;124m\"\u001b[39m: \u001b[38;5;124m\"\u001b[39m\u001b[38;5;124mPedersoli\u001b[39m\u001b[38;5;124m\"\u001b[39m,\n\u001b[0;32m----> 7\u001b[0m                 \u001b[43mprofessione\u001b[49m : \u001b[38;5;124m\"\u001b[39m\u001b[38;5;124mEroe\u001b[39m\u001b[38;5;124m\"\u001b[39m\n\u001b[1;32m      8\u001b[0m }\n",
      "\u001b[0;31mNameError\u001b[0m: name 'professione' is not defined"
     ]
    }
   ],
   "source": [
    "\"\"\"\n",
    "    NameError: name 'professione' is not defined\n",
    "\"\"\"\n",
    "dizionario = {\n",
    "                \"nome\": \"Carlo\",\n",
    "                \"cognome\": \"Pedersoli\",\n",
    "                professione : \"Eroe\"\n",
    "}"
   ]
  },
  {
   "cell_type": "markdown",
   "id": "c7fed793-d8b1-4ed2-9989-1802228e7142",
   "metadata": {},
   "source": [
    "Perchè in questo esempio l'errore è un NameError e non un KeyError???  \n",
    "La chiave \"professione\" non è tra doppi apici. Al momento di andare a creare la chiave, cercherà una variabile con quel nome e non la troverà."
   ]
  },
  {
   "cell_type": "markdown",
   "id": "b390c902-a898-4b03-b2ba-5faf4d7b6fae",
   "metadata": {},
   "source": [
    "### FileNotFoundError:"
   ]
  },
  {
   "cell_type": "markdown",
   "id": "f7848ceb-65fa-41ff-86b0-c3c1f2ab6532",
   "metadata": {},
   "source": [
    "Lavorare coi file può essere molto soddisfacente e, con la potenza di Python, le \n",
    "operazioni che si possono fare su di essi sono pressochè infinite.\n",
    "Bisogna però ricordarsi alcuni concetti molto semplici riguardanti i \"path\" o \n",
    "anche la più semplice operazione potrebbe diventare incredibilmente tediosa.  \n",
    "Il path(percorso) è una sequenza di cartelle(directories) unite tra loro da un separatore\n",
    "e ci serve ad identificare la posizione e trovare un determinato file o cartella nel nostro computer.  \n",
    "\n",
    "Prenderemo in considerazione due tipi di path: il path relativo ed il path assoluto.\n",
    "\n",
    "Il path relativo prende in considerazione come cartella di \"partenza\" la cartella in cui \n",
    "è posizionato lo script:"
   ]
  },
  {
   "cell_type": "code",
   "execution_count": 99,
   "id": "5e2cc8c2-8785-4691-9719-5da2da532b37",
   "metadata": {},
   "outputs": [],
   "source": [
    "# N.B. Da questo momento in poi verranno generate due cartelle ed un csv sample\n",
    "# sul vostro computer.\n",
    "# se per qualche motivo non desiderate che ciò avvenga, limitatevi a leggere\n",
    "# e non eseguite il run ;)\n",
    "\n",
    "contenuto_file = [\n",
    "                    \"Nome, Cognome\\n\",\n",
    "                    \"John, Lennon\\n\",\n",
    "                    \"Paul, Mccartney\\n\",\n",
    "                    \"George, Harrison\\n\",\n",
    "                    \"Richard, Starkey\\n\"\n",
    "                ]\n",
    "\n",
    "with open(\"sample1.csv\", \"w\") as file:\n",
    "\n",
    "    file.write(\"\".join(contenuto_file))\n",
    "\n",
    "    "
   ]
  },
  {
   "cell_type": "markdown",
   "id": "1bfae3b5-669d-44a8-a68a-c887fdfc59ac",
   "metadata": {},
   "source": [
    "Se fate il run sullo script qui sopra, verrà genrato un csv nella cartella in cui\n",
    "è posizionato VademecumErrori. Dato che la cartella è la stessa, per accedere al file\n",
    "basterà inserire in una stringa il nome del file(sempre seguito dal suo formato o\n",
    "Python lo scambierà per un'altra cartella) e riusciremo ad accedervi.  \n",
    "E si, per chi non lo sapesse, Richard Starkey è il vero nome di Ringo Starr..."
   ]
  },
  {
   "cell_type": "code",
   "execution_count": 100,
   "id": "11e3d4af-b7c6-42dd-a003-cde87c43e143",
   "metadata": {},
   "outputs": [
    {
     "name": "stdout",
     "output_type": "stream",
     "text": [
      "      Nome     Cognome\n",
      "0     John      Lennon\n",
      "1     Paul   Mccartney\n",
      "2   George    Harrison\n",
      "3  Richard     Starkey\n"
     ]
    }
   ],
   "source": [
    "import pandas as pd\n",
    "\n",
    "df = pd.read_csv(\"sample1.csv\")\n",
    "\n",
    "print(df)"
   ]
  },
  {
   "cell_type": "markdown",
   "id": "064a2aa7-daaf-4cdc-9025-c6c395bfbf6c",
   "metadata": {},
   "source": [
    "se cerco il file senza specificare il formato, ecco quel che succede:"
   ]
  },
  {
   "cell_type": "code",
   "execution_count": 95,
   "id": "59c3bbad-f755-42b6-b606-6012049febdc",
   "metadata": {},
   "outputs": [
    {
     "ename": "FileNotFoundError",
     "evalue": "[Errno 2] No such file or directory: 'sample1'",
     "output_type": "error",
     "traceback": [
      "\u001b[0;31m---------------------------------------------------------------------------\u001b[0m",
      "\u001b[0;31mFileNotFoundError\u001b[0m                         Traceback (most recent call last)",
      "Cell \u001b[0;32mIn[95], line 7\u001b[0m\n\u001b[1;32m      1\u001b[0m \u001b[38;5;124;03m\"\"\"\u001b[39;00m\n\u001b[1;32m      2\u001b[0m \u001b[38;5;124;03m    FileNotFoundError: [Errno 2] No such file or directory: 'sample1'  \u001b[39;00m\n\u001b[1;32m      3\u001b[0m \u001b[38;5;124;03m\"\"\"\u001b[39;00m    \n\u001b[1;32m      5\u001b[0m \u001b[38;5;28;01mimport\u001b[39;00m \u001b[38;5;21;01mpandas\u001b[39;00m \u001b[38;5;28;01mas\u001b[39;00m \u001b[38;5;21;01mpd\u001b[39;00m\n\u001b[0;32m----> 7\u001b[0m df \u001b[38;5;241m=\u001b[39m \u001b[43mpd\u001b[49m\u001b[38;5;241;43m.\u001b[39;49m\u001b[43mread_csv\u001b[49m\u001b[43m(\u001b[49m\u001b[38;5;124;43m\"\u001b[39;49m\u001b[38;5;124;43msample1\u001b[39;49m\u001b[38;5;124;43m\"\u001b[39;49m\u001b[43m)\u001b[49m\n\u001b[1;32m      9\u001b[0m \u001b[38;5;28mprint\u001b[39m(df)\n",
      "File \u001b[0;32m~/.local/lib/python3.10/site-packages/pandas/io/parsers/readers.py:1026\u001b[0m, in \u001b[0;36mread_csv\u001b[0;34m(filepath_or_buffer, sep, delimiter, header, names, index_col, usecols, dtype, engine, converters, true_values, false_values, skipinitialspace, skiprows, skipfooter, nrows, na_values, keep_default_na, na_filter, verbose, skip_blank_lines, parse_dates, infer_datetime_format, keep_date_col, date_parser, date_format, dayfirst, cache_dates, iterator, chunksize, compression, thousands, decimal, lineterminator, quotechar, quoting, doublequote, escapechar, comment, encoding, encoding_errors, dialect, on_bad_lines, delim_whitespace, low_memory, memory_map, float_precision, storage_options, dtype_backend)\u001b[0m\n\u001b[1;32m   1013\u001b[0m kwds_defaults \u001b[38;5;241m=\u001b[39m _refine_defaults_read(\n\u001b[1;32m   1014\u001b[0m     dialect,\n\u001b[1;32m   1015\u001b[0m     delimiter,\n\u001b[0;32m   (...)\u001b[0m\n\u001b[1;32m   1022\u001b[0m     dtype_backend\u001b[38;5;241m=\u001b[39mdtype_backend,\n\u001b[1;32m   1023\u001b[0m )\n\u001b[1;32m   1024\u001b[0m kwds\u001b[38;5;241m.\u001b[39mupdate(kwds_defaults)\n\u001b[0;32m-> 1026\u001b[0m \u001b[38;5;28;01mreturn\u001b[39;00m \u001b[43m_read\u001b[49m\u001b[43m(\u001b[49m\u001b[43mfilepath_or_buffer\u001b[49m\u001b[43m,\u001b[49m\u001b[43m \u001b[49m\u001b[43mkwds\u001b[49m\u001b[43m)\u001b[49m\n",
      "File \u001b[0;32m~/.local/lib/python3.10/site-packages/pandas/io/parsers/readers.py:620\u001b[0m, in \u001b[0;36m_read\u001b[0;34m(filepath_or_buffer, kwds)\u001b[0m\n\u001b[1;32m    617\u001b[0m _validate_names(kwds\u001b[38;5;241m.\u001b[39mget(\u001b[38;5;124m\"\u001b[39m\u001b[38;5;124mnames\u001b[39m\u001b[38;5;124m\"\u001b[39m, \u001b[38;5;28;01mNone\u001b[39;00m))\n\u001b[1;32m    619\u001b[0m \u001b[38;5;66;03m# Create the parser.\u001b[39;00m\n\u001b[0;32m--> 620\u001b[0m parser \u001b[38;5;241m=\u001b[39m \u001b[43mTextFileReader\u001b[49m\u001b[43m(\u001b[49m\u001b[43mfilepath_or_buffer\u001b[49m\u001b[43m,\u001b[49m\u001b[43m \u001b[49m\u001b[38;5;241;43m*\u001b[39;49m\u001b[38;5;241;43m*\u001b[39;49m\u001b[43mkwds\u001b[49m\u001b[43m)\u001b[49m\n\u001b[1;32m    622\u001b[0m \u001b[38;5;28;01mif\u001b[39;00m chunksize \u001b[38;5;129;01mor\u001b[39;00m iterator:\n\u001b[1;32m    623\u001b[0m     \u001b[38;5;28;01mreturn\u001b[39;00m parser\n",
      "File \u001b[0;32m~/.local/lib/python3.10/site-packages/pandas/io/parsers/readers.py:1620\u001b[0m, in \u001b[0;36mTextFileReader.__init__\u001b[0;34m(self, f, engine, **kwds)\u001b[0m\n\u001b[1;32m   1617\u001b[0m     \u001b[38;5;28mself\u001b[39m\u001b[38;5;241m.\u001b[39moptions[\u001b[38;5;124m\"\u001b[39m\u001b[38;5;124mhas_index_names\u001b[39m\u001b[38;5;124m\"\u001b[39m] \u001b[38;5;241m=\u001b[39m kwds[\u001b[38;5;124m\"\u001b[39m\u001b[38;5;124mhas_index_names\u001b[39m\u001b[38;5;124m\"\u001b[39m]\n\u001b[1;32m   1619\u001b[0m \u001b[38;5;28mself\u001b[39m\u001b[38;5;241m.\u001b[39mhandles: IOHandles \u001b[38;5;241m|\u001b[39m \u001b[38;5;28;01mNone\u001b[39;00m \u001b[38;5;241m=\u001b[39m \u001b[38;5;28;01mNone\u001b[39;00m\n\u001b[0;32m-> 1620\u001b[0m \u001b[38;5;28mself\u001b[39m\u001b[38;5;241m.\u001b[39m_engine \u001b[38;5;241m=\u001b[39m \u001b[38;5;28;43mself\u001b[39;49m\u001b[38;5;241;43m.\u001b[39;49m\u001b[43m_make_engine\u001b[49m\u001b[43m(\u001b[49m\u001b[43mf\u001b[49m\u001b[43m,\u001b[49m\u001b[43m \u001b[49m\u001b[38;5;28;43mself\u001b[39;49m\u001b[38;5;241;43m.\u001b[39;49m\u001b[43mengine\u001b[49m\u001b[43m)\u001b[49m\n",
      "File \u001b[0;32m~/.local/lib/python3.10/site-packages/pandas/io/parsers/readers.py:1880\u001b[0m, in \u001b[0;36mTextFileReader._make_engine\u001b[0;34m(self, f, engine)\u001b[0m\n\u001b[1;32m   1878\u001b[0m     \u001b[38;5;28;01mif\u001b[39;00m \u001b[38;5;124m\"\u001b[39m\u001b[38;5;124mb\u001b[39m\u001b[38;5;124m\"\u001b[39m \u001b[38;5;129;01mnot\u001b[39;00m \u001b[38;5;129;01min\u001b[39;00m mode:\n\u001b[1;32m   1879\u001b[0m         mode \u001b[38;5;241m+\u001b[39m\u001b[38;5;241m=\u001b[39m \u001b[38;5;124m\"\u001b[39m\u001b[38;5;124mb\u001b[39m\u001b[38;5;124m\"\u001b[39m\n\u001b[0;32m-> 1880\u001b[0m \u001b[38;5;28mself\u001b[39m\u001b[38;5;241m.\u001b[39mhandles \u001b[38;5;241m=\u001b[39m \u001b[43mget_handle\u001b[49m\u001b[43m(\u001b[49m\n\u001b[1;32m   1881\u001b[0m \u001b[43m    \u001b[49m\u001b[43mf\u001b[49m\u001b[43m,\u001b[49m\n\u001b[1;32m   1882\u001b[0m \u001b[43m    \u001b[49m\u001b[43mmode\u001b[49m\u001b[43m,\u001b[49m\n\u001b[1;32m   1883\u001b[0m \u001b[43m    \u001b[49m\u001b[43mencoding\u001b[49m\u001b[38;5;241;43m=\u001b[39;49m\u001b[38;5;28;43mself\u001b[39;49m\u001b[38;5;241;43m.\u001b[39;49m\u001b[43moptions\u001b[49m\u001b[38;5;241;43m.\u001b[39;49m\u001b[43mget\u001b[49m\u001b[43m(\u001b[49m\u001b[38;5;124;43m\"\u001b[39;49m\u001b[38;5;124;43mencoding\u001b[39;49m\u001b[38;5;124;43m\"\u001b[39;49m\u001b[43m,\u001b[49m\u001b[43m \u001b[49m\u001b[38;5;28;43;01mNone\u001b[39;49;00m\u001b[43m)\u001b[49m\u001b[43m,\u001b[49m\n\u001b[1;32m   1884\u001b[0m \u001b[43m    \u001b[49m\u001b[43mcompression\u001b[49m\u001b[38;5;241;43m=\u001b[39;49m\u001b[38;5;28;43mself\u001b[39;49m\u001b[38;5;241;43m.\u001b[39;49m\u001b[43moptions\u001b[49m\u001b[38;5;241;43m.\u001b[39;49m\u001b[43mget\u001b[49m\u001b[43m(\u001b[49m\u001b[38;5;124;43m\"\u001b[39;49m\u001b[38;5;124;43mcompression\u001b[39;49m\u001b[38;5;124;43m\"\u001b[39;49m\u001b[43m,\u001b[49m\u001b[43m \u001b[49m\u001b[38;5;28;43;01mNone\u001b[39;49;00m\u001b[43m)\u001b[49m\u001b[43m,\u001b[49m\n\u001b[1;32m   1885\u001b[0m \u001b[43m    \u001b[49m\u001b[43mmemory_map\u001b[49m\u001b[38;5;241;43m=\u001b[39;49m\u001b[38;5;28;43mself\u001b[39;49m\u001b[38;5;241;43m.\u001b[39;49m\u001b[43moptions\u001b[49m\u001b[38;5;241;43m.\u001b[39;49m\u001b[43mget\u001b[49m\u001b[43m(\u001b[49m\u001b[38;5;124;43m\"\u001b[39;49m\u001b[38;5;124;43mmemory_map\u001b[39;49m\u001b[38;5;124;43m\"\u001b[39;49m\u001b[43m,\u001b[49m\u001b[43m \u001b[49m\u001b[38;5;28;43;01mFalse\u001b[39;49;00m\u001b[43m)\u001b[49m\u001b[43m,\u001b[49m\n\u001b[1;32m   1886\u001b[0m \u001b[43m    \u001b[49m\u001b[43mis_text\u001b[49m\u001b[38;5;241;43m=\u001b[39;49m\u001b[43mis_text\u001b[49m\u001b[43m,\u001b[49m\n\u001b[1;32m   1887\u001b[0m \u001b[43m    \u001b[49m\u001b[43merrors\u001b[49m\u001b[38;5;241;43m=\u001b[39;49m\u001b[38;5;28;43mself\u001b[39;49m\u001b[38;5;241;43m.\u001b[39;49m\u001b[43moptions\u001b[49m\u001b[38;5;241;43m.\u001b[39;49m\u001b[43mget\u001b[49m\u001b[43m(\u001b[49m\u001b[38;5;124;43m\"\u001b[39;49m\u001b[38;5;124;43mencoding_errors\u001b[39;49m\u001b[38;5;124;43m\"\u001b[39;49m\u001b[43m,\u001b[49m\u001b[43m \u001b[49m\u001b[38;5;124;43m\"\u001b[39;49m\u001b[38;5;124;43mstrict\u001b[39;49m\u001b[38;5;124;43m\"\u001b[39;49m\u001b[43m)\u001b[49m\u001b[43m,\u001b[49m\n\u001b[1;32m   1888\u001b[0m \u001b[43m    \u001b[49m\u001b[43mstorage_options\u001b[49m\u001b[38;5;241;43m=\u001b[39;49m\u001b[38;5;28;43mself\u001b[39;49m\u001b[38;5;241;43m.\u001b[39;49m\u001b[43moptions\u001b[49m\u001b[38;5;241;43m.\u001b[39;49m\u001b[43mget\u001b[49m\u001b[43m(\u001b[49m\u001b[38;5;124;43m\"\u001b[39;49m\u001b[38;5;124;43mstorage_options\u001b[39;49m\u001b[38;5;124;43m\"\u001b[39;49m\u001b[43m,\u001b[49m\u001b[43m \u001b[49m\u001b[38;5;28;43;01mNone\u001b[39;49;00m\u001b[43m)\u001b[49m\u001b[43m,\u001b[49m\n\u001b[1;32m   1889\u001b[0m \u001b[43m\u001b[49m\u001b[43m)\u001b[49m\n\u001b[1;32m   1890\u001b[0m \u001b[38;5;28;01massert\u001b[39;00m \u001b[38;5;28mself\u001b[39m\u001b[38;5;241m.\u001b[39mhandles \u001b[38;5;129;01mis\u001b[39;00m \u001b[38;5;129;01mnot\u001b[39;00m \u001b[38;5;28;01mNone\u001b[39;00m\n\u001b[1;32m   1891\u001b[0m f \u001b[38;5;241m=\u001b[39m \u001b[38;5;28mself\u001b[39m\u001b[38;5;241m.\u001b[39mhandles\u001b[38;5;241m.\u001b[39mhandle\n",
      "File \u001b[0;32m~/.local/lib/python3.10/site-packages/pandas/io/common.py:873\u001b[0m, in \u001b[0;36mget_handle\u001b[0;34m(path_or_buf, mode, encoding, compression, memory_map, is_text, errors, storage_options)\u001b[0m\n\u001b[1;32m    868\u001b[0m \u001b[38;5;28;01melif\u001b[39;00m \u001b[38;5;28misinstance\u001b[39m(handle, \u001b[38;5;28mstr\u001b[39m):\n\u001b[1;32m    869\u001b[0m     \u001b[38;5;66;03m# Check whether the filename is to be opened in binary mode.\u001b[39;00m\n\u001b[1;32m    870\u001b[0m     \u001b[38;5;66;03m# Binary mode does not support 'encoding' and 'newline'.\u001b[39;00m\n\u001b[1;32m    871\u001b[0m     \u001b[38;5;28;01mif\u001b[39;00m ioargs\u001b[38;5;241m.\u001b[39mencoding \u001b[38;5;129;01mand\u001b[39;00m \u001b[38;5;124m\"\u001b[39m\u001b[38;5;124mb\u001b[39m\u001b[38;5;124m\"\u001b[39m \u001b[38;5;129;01mnot\u001b[39;00m \u001b[38;5;129;01min\u001b[39;00m ioargs\u001b[38;5;241m.\u001b[39mmode:\n\u001b[1;32m    872\u001b[0m         \u001b[38;5;66;03m# Encoding\u001b[39;00m\n\u001b[0;32m--> 873\u001b[0m         handle \u001b[38;5;241m=\u001b[39m \u001b[38;5;28;43mopen\u001b[39;49m\u001b[43m(\u001b[49m\n\u001b[1;32m    874\u001b[0m \u001b[43m            \u001b[49m\u001b[43mhandle\u001b[49m\u001b[43m,\u001b[49m\n\u001b[1;32m    875\u001b[0m \u001b[43m            \u001b[49m\u001b[43mioargs\u001b[49m\u001b[38;5;241;43m.\u001b[39;49m\u001b[43mmode\u001b[49m\u001b[43m,\u001b[49m\n\u001b[1;32m    876\u001b[0m \u001b[43m            \u001b[49m\u001b[43mencoding\u001b[49m\u001b[38;5;241;43m=\u001b[39;49m\u001b[43mioargs\u001b[49m\u001b[38;5;241;43m.\u001b[39;49m\u001b[43mencoding\u001b[49m\u001b[43m,\u001b[49m\n\u001b[1;32m    877\u001b[0m \u001b[43m            \u001b[49m\u001b[43merrors\u001b[49m\u001b[38;5;241;43m=\u001b[39;49m\u001b[43merrors\u001b[49m\u001b[43m,\u001b[49m\n\u001b[1;32m    878\u001b[0m \u001b[43m            \u001b[49m\u001b[43mnewline\u001b[49m\u001b[38;5;241;43m=\u001b[39;49m\u001b[38;5;124;43m\"\u001b[39;49m\u001b[38;5;124;43m\"\u001b[39;49m\u001b[43m,\u001b[49m\n\u001b[1;32m    879\u001b[0m \u001b[43m        \u001b[49m\u001b[43m)\u001b[49m\n\u001b[1;32m    880\u001b[0m     \u001b[38;5;28;01melse\u001b[39;00m:\n\u001b[1;32m    881\u001b[0m         \u001b[38;5;66;03m# Binary mode\u001b[39;00m\n\u001b[1;32m    882\u001b[0m         handle \u001b[38;5;241m=\u001b[39m \u001b[38;5;28mopen\u001b[39m(handle, ioargs\u001b[38;5;241m.\u001b[39mmode)\n",
      "\u001b[0;31mFileNotFoundError\u001b[0m: [Errno 2] No such file or directory: 'sample1'"
     ]
    }
   ],
   "source": [
    "\"\"\"\n",
    "    FileNotFoundError: [Errno 2] No such file or directory: 'sample1'  \n",
    "\"\"\"    \n",
    "\n",
    "import pandas as pd\n",
    "\n",
    "df = pd.read_csv(\"sample1\")\n",
    "\n",
    "print(df)"
   ]
  },
  {
   "cell_type": "code",
   "execution_count": 101,
   "id": "0fd98636-66f8-41de-93d1-31bd61749fbb",
   "metadata": {},
   "outputs": [
    {
     "data": {
      "text/plain": [
       "'cartellaSample/sample1.csv'"
      ]
     },
     "execution_count": 101,
     "metadata": {},
     "output_type": "execute_result"
    }
   ],
   "source": [
    "import os\n",
    "import shutil as sh\n",
    "\n",
    "os.makedirs(\"cartellaSample\")\n",
    "os.makedirs(\"cartellaSample/cartellaSample2\")\n",
    "sh.move(\"sample1.csv\", \"cartellaSample\")"
   ]
  },
  {
   "cell_type": "markdown",
   "id": "e19ad8be-26d8-4236-ad8a-89da9ab2f49f",
   "metadata": {},
   "source": [
    "Giusto perchè sia chiaro quel che succede, dato che non è questa la sede per \n",
    "approfondire os e shutil e chi scrive non è la persona giusta per farlo(non \n",
    "giocateci troppo, sono librerie che comunicano col sistema operativo), \n",
    "lo script qui sopra crea con os una cartellaSample.  \n",
    "Al suo interno sposta(con shutil) il file sample1.csv. e genera una cartella vuota cartellaSample2.  \n",
    "Se prendiamo in considerazione la nostra cartella di partenza, per accedere \n",
    "al file bastarà aggiungere al path il nome della directory nella quale abbiamo\n",
    "inserito il csv ed il nome del file:"
   ]
  },
  {
   "cell_type": "code",
   "execution_count": 104,
   "id": "825d1587-2ab6-46c2-aec0-09e7dbe8a273",
   "metadata": {},
   "outputs": [
    {
     "data": {
      "text/html": [
       "<div>\n",
       "<style scoped>\n",
       "    .dataframe tbody tr th:only-of-type {\n",
       "        vertical-align: middle;\n",
       "    }\n",
       "\n",
       "    .dataframe tbody tr th {\n",
       "        vertical-align: top;\n",
       "    }\n",
       "\n",
       "    .dataframe thead th {\n",
       "        text-align: right;\n",
       "    }\n",
       "</style>\n",
       "<table border=\"1\" class=\"dataframe\">\n",
       "  <thead>\n",
       "    <tr style=\"text-align: right;\">\n",
       "      <th></th>\n",
       "      <th>Nome</th>\n",
       "      <th>Cognome</th>\n",
       "    </tr>\n",
       "  </thead>\n",
       "  <tbody>\n",
       "    <tr>\n",
       "      <th>0</th>\n",
       "      <td>John</td>\n",
       "      <td>Lennon</td>\n",
       "    </tr>\n",
       "    <tr>\n",
       "      <th>1</th>\n",
       "      <td>Paul</td>\n",
       "      <td>Mccartney</td>\n",
       "    </tr>\n",
       "    <tr>\n",
       "      <th>2</th>\n",
       "      <td>George</td>\n",
       "      <td>Harrison</td>\n",
       "    </tr>\n",
       "    <tr>\n",
       "      <th>3</th>\n",
       "      <td>Richard</td>\n",
       "      <td>Starkey</td>\n",
       "    </tr>\n",
       "  </tbody>\n",
       "</table>\n",
       "</div>"
      ],
      "text/plain": [
       "      Nome     Cognome\n",
       "0     John      Lennon\n",
       "1     Paul   Mccartney\n",
       "2   George    Harrison\n",
       "3  Richard     Starkey"
      ]
     },
     "execution_count": 104,
     "metadata": {},
     "output_type": "execute_result"
    }
   ],
   "source": [
    "df = pd.read_csv(\"cartellaSample/sample1.csv\")\n"
   ]
  },
  {
   "cell_type": "code",
   "execution_count": 106,
   "id": "90d7dcca-c8b2-47bd-9b4b-d7d7b7d30a1e",
   "metadata": {},
   "outputs": [
    {
     "data": {
      "text/plain": [
       "'cartellaSample/cartellaSample2/sample1.csv'"
      ]
     },
     "execution_count": 106,
     "metadata": {},
     "output_type": "execute_result"
    }
   ],
   "source": [
    "sh.move(\"cartellaSample/sample1.csv\", \"cartellaSample/cartellaSample2\")"
   ]
  },
  {
   "cell_type": "markdown",
   "id": "3b458762-3d65-4c31-bdd4-b8c783921731",
   "metadata": {},
   "source": [
    "con la riga qui sopra, sposto sample1.csv da cartellaSample a cartellaSample2.  \n",
    "Per accedervi adesso dovrò digitare:"
   ]
  },
  {
   "cell_type": "code",
   "execution_count": 107,
   "id": "5e97e1d5-dd44-4da0-8f5a-78a2528b401b",
   "metadata": {},
   "outputs": [
    {
     "data": {
      "text/html": [
       "<div>\n",
       "<style scoped>\n",
       "    .dataframe tbody tr th:only-of-type {\n",
       "        vertical-align: middle;\n",
       "    }\n",
       "\n",
       "    .dataframe tbody tr th {\n",
       "        vertical-align: top;\n",
       "    }\n",
       "\n",
       "    .dataframe thead th {\n",
       "        text-align: right;\n",
       "    }\n",
       "</style>\n",
       "<table border=\"1\" class=\"dataframe\">\n",
       "  <thead>\n",
       "    <tr style=\"text-align: right;\">\n",
       "      <th></th>\n",
       "      <th>Nome</th>\n",
       "      <th>Cognome</th>\n",
       "    </tr>\n",
       "  </thead>\n",
       "  <tbody>\n",
       "    <tr>\n",
       "      <th>0</th>\n",
       "      <td>John</td>\n",
       "      <td>Lennon</td>\n",
       "    </tr>\n",
       "    <tr>\n",
       "      <th>1</th>\n",
       "      <td>Paul</td>\n",
       "      <td>Mccartney</td>\n",
       "    </tr>\n",
       "    <tr>\n",
       "      <th>2</th>\n",
       "      <td>George</td>\n",
       "      <td>Harrison</td>\n",
       "    </tr>\n",
       "    <tr>\n",
       "      <th>3</th>\n",
       "      <td>Richard</td>\n",
       "      <td>Starkey</td>\n",
       "    </tr>\n",
       "  </tbody>\n",
       "</table>\n",
       "</div>"
      ],
      "text/plain": [
       "      Nome     Cognome\n",
       "0     John      Lennon\n",
       "1     Paul   Mccartney\n",
       "2   George    Harrison\n",
       "3  Richard     Starkey"
      ]
     },
     "execution_count": 107,
     "metadata": {},
     "output_type": "execute_result"
    }
   ],
   "source": [
    "pd.read_csv(\"cartellaSample/cartellaSample2/sample1.csv\")"
   ]
  },
  {
   "cell_type": "markdown",
   "id": "d78d30b4-e4ef-4926-acd7-252995fbc7a9",
   "metadata": {},
   "source": [
    "Altra cosa è il path assoluto. Partendo dalla cartella root(C: in Windows), \n",
    "il path assoluto prenderà in considerazione tutte le cartelle da \"percorrere\" \n",
    "per arrivare al file desiderato.  \n",
    "Per capire questo concetto ricorriamo ad os:"
   ]
  },
  {
   "cell_type": "code",
   "execution_count": 108,
   "id": "ca4ef49f-8a4c-43f8-8abe-78fbc36ed805",
   "metadata": {},
   "outputs": [
    {
     "data": {
      "text/plain": [
       "'/home/claudio/Scrivania/epiEnv'"
      ]
     },
     "execution_count": 108,
     "metadata": {},
     "output_type": "execute_result"
    }
   ],
   "source": [
    "os.getcwd()"
   ]
  },
  {
   "cell_type": "markdown",
   "id": "069d4578-5a14-4227-8dc5-1ef1ac0e258f",
   "metadata": {},
   "source": [
    "Nel mio caso, sistema Linux Ubuntu(qualcosa di simile dovrebbe avvenire in Mac) non indica\n",
    "la cartella C: e considererà il primo slash come cartella root.  \n",
    "Tramite la funzione os.getcwd(), ottengo il percorso del vademecum che come vedrete è così' \n",
    "composto:  \n",
    "\n",
    "\"cartella_root/home/cartella_utente/scrivania/cartella_script\"  \n",
    "\n",
    "dato che cartella_script è la cartella in cui si trova il nostro vademecum, basterà\n",
    "aggiungere il percorso relativo del file sample1.csv ed otterremo il percorso assoluto completo:"
   ]
  },
  {
   "cell_type": "code",
   "execution_count": 110,
   "id": "d9d5c8e3-2731-4cd8-bef3-bbb33392be99",
   "metadata": {},
   "outputs": [
    {
     "data": {
      "text/html": [
       "<div>\n",
       "<style scoped>\n",
       "    .dataframe tbody tr th:only-of-type {\n",
       "        vertical-align: middle;\n",
       "    }\n",
       "\n",
       "    .dataframe tbody tr th {\n",
       "        vertical-align: top;\n",
       "    }\n",
       "\n",
       "    .dataframe thead th {\n",
       "        text-align: right;\n",
       "    }\n",
       "</style>\n",
       "<table border=\"1\" class=\"dataframe\">\n",
       "  <thead>\n",
       "    <tr style=\"text-align: right;\">\n",
       "      <th></th>\n",
       "      <th>Nome</th>\n",
       "      <th>Cognome</th>\n",
       "    </tr>\n",
       "  </thead>\n",
       "  <tbody>\n",
       "    <tr>\n",
       "      <th>0</th>\n",
       "      <td>John</td>\n",
       "      <td>Lennon</td>\n",
       "    </tr>\n",
       "    <tr>\n",
       "      <th>1</th>\n",
       "      <td>Paul</td>\n",
       "      <td>Mccartney</td>\n",
       "    </tr>\n",
       "    <tr>\n",
       "      <th>2</th>\n",
       "      <td>George</td>\n",
       "      <td>Harrison</td>\n",
       "    </tr>\n",
       "    <tr>\n",
       "      <th>3</th>\n",
       "      <td>Richard</td>\n",
       "      <td>Starkey</td>\n",
       "    </tr>\n",
       "  </tbody>\n",
       "</table>\n",
       "</div>"
      ],
      "text/plain": [
       "      Nome     Cognome\n",
       "0     John      Lennon\n",
       "1     Paul   Mccartney\n",
       "2   George    Harrison\n",
       "3  Richard     Starkey"
      ]
     },
     "execution_count": 110,
     "metadata": {},
     "output_type": "execute_result"
    }
   ],
   "source": [
    "percorso_assoluto_script= os.getcwd()\n",
    "percorso_relativo_file= \"cartellaSample/cartellaSample2/sample1.csv\"\n",
    "percorso_assoluto_file = f\"{percorso_assoluto_script}/{percorso_relativo_file}\"\n",
    "pd.read_csv(percorso_assoluto_file) "
   ]
  },
  {
   "cell_type": "markdown",
   "id": "b95e2181-6ab0-45f7-862a-4ff4a483de8c",
   "metadata": {},
   "source": [
    "Sarebbe comunque consigliato(anche se Python da questo di vista è \n",
    "incredibilmente portabile) passare un po' di tempo a spulciare i \n",
    "comandi base del terminale del vostro sistema operativo.  \n",
    "Il modo di scrivere o interpretare comandi, flags, paths cambia\n",
    "da sistema in sistema.  \n",
    "Impararne le basi vi aiuterà parecchio nel comprendere quel mondo\n",
    "misterioso che è il vostro computer, a smettere progressivamente \n",
    "di temerlo e riuscire, infine, a domarlo."
   ]
  },
  {
   "cell_type": "markdown",
   "id": "36becc82-8c33-45f4-8a19-c3560611825a",
   "metadata": {},
   "source": [
    "Vademecum Errori è giunto alla fine.  \n",
    "Spero ne possiate godere e che vi risulti utile!  \n",
    "Buona programmazione a tutti!\n",
    "\n"
   ]
  }
 ],
 "metadata": {
  "kernelspec": {
   "display_name": "Python 3 (ipykernel)",
   "language": "python",
   "name": "python3"
  },
  "language_info": {
   "codemirror_mode": {
    "name": "ipython",
    "version": 3
   },
   "file_extension": ".py",
   "mimetype": "text/x-python",
   "name": "python",
   "nbconvert_exporter": "python",
   "pygments_lexer": "ipython3",
   "version": "3.10.12"
  }
 },
 "nbformat": 4,
 "nbformat_minor": 5
}
