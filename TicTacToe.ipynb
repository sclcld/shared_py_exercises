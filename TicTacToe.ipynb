{
 "cells": [
  {
   "cell_type": "code",
   "execution_count": 84,
   "id": "4b4143c1-0f9d-43d5-9f07-3ec5e19ff770",
   "metadata": {},
   "outputs": [
    {
     "name": "stdout",
     "output_type": "stream",
     "text": [
      " | | \n",
      " | | \n",
      " | | \n"
     ]
    }
   ],
   "source": [
    "\"\"\"\n",
    "    Vi propongo un esercizio classico: TicTacToe o gioco del Tris. \n",
    "    Normalmente il campo di gioco è una lista di liste[3x3] riempita da stringhe vuote. \n",
    "\"\"\"\n",
    "\n",
    "square = [[\"\",\"\",\"\"],[\"\",\"\",\"\"],[\"\",\"\",\"\"]]\n",
    " \n",
    "# con il seguente ciclo for, joinando il contenuto di ogni riga tramite | e sostituendo eventuali caratteri vuoti\n",
    "# (solo in fase di PRINT!!! Square non viene modificato da questo ciclo!!!), otterremo la griglia.  \n",
    "\n",
    "for row in square:\n",
    "\n",
    "    print(\"|\".join([\" \" if not cell else cell for cell in row]))\n"
   ]
  },
  {
   "cell_type": "code",
   "execution_count": 85,
   "id": "787dce2f-d6b0-4a5b-9974-6e7f183383ba",
   "metadata": {},
   "outputs": [],
   "source": [
    "\"\"\"\n",
    "    questa una piccola facility. ogni volta che chiamerete square_visualize(), \n",
    "    otterrete la griglia aggiornata.\n",
    "    Si basa sul ciclo for scritto precedentemente. Si limita ad inserire le \n",
    "    stringhe(questa volta realmente modificate, ma non conservate in nessuna \n",
    "    variabile poichè restituite dalla funzione) in un'unica stringa joinata con \\n.\n",
    "    Per utilizzarla durante l'esecuzione del programma, non dimenticate di fare il \n",
    "    run sulla cella.\n",
    "\"\"\"\n",
    "   \n",
    "def square_visualize(square):\n",
    "\n",
    "    print(\"\\n\".join([\"|\".join([\" \" if not cell else cell for cell in row]) for row in square]))\n",
    "\n",
    "# per comprendere questa funzione, sotto come si sviluppa. E' un po' complicato e non necessario comprenderla.\n",
    "# Ma dovesse interessarvi :"
   ]
  },
  {
   "cell_type": "code",
   "execution_count": 97,
   "id": "eadab366-4c53-47e6-8392-94e5b6588908",
   "metadata": {},
   "outputs": [
    {
     "name": "stdout",
     "output_type": "stream",
     "text": [
      "iteration1\n",
      "row 0 :  ['', 'X', '']\n",
      "    cell content 0:||\n",
      "    cell content 1:|X|\n",
      "    cell content 2:||\n",
      "iteration2\n",
      "row 1 :  ['O', '', 'O']\n",
      "    cell content 0:|O|\n",
      "    cell content 1:||\n",
      "    cell content 2:|O|\n",
      "iteration3\n",
      "row 2 :  ['', '', '']\n",
      "    cell content 0:||\n",
      "    cell content 1:||\n",
      "    cell content 2:||\n"
     ]
    }
   ],
   "source": [
    "\"\"\"\n",
    "    Questo è ciò che avviene in \n",
    "    \"\\n\".join([\"|\".join([\" \" if not cell else cell for cell in row]) for row in square])\n",
    "    dovesse essere \"prematuro\" potete passate direttamente alla cella \n",
    "    successiva ;) !!!!!! \n",
    "\"\"\"\n",
    "\n",
    "sample1 = [\n",
    "            [\"\", \"X\", \"\"], \n",
    "            [\"O\", \"\", \"O\"], \n",
    "            [\"\", \"\", \"\"]\n",
    "        ]\n",
    "\n",
    "# questo ciclo itera lungo le liste in sample1. Al suo interno, ogni volta che incrementa,\n",
    "# viene dichiarata una lista vuota(si azzera ad ogni incremento).\n",
    "# In questa lista verranno inseriti i caratteri trovati con append() \n",
    "\n",
    "for r_index,row in enumerate(sample1):\n",
    "\n",
    "    print(f\"iteration{r_index +1}\")\n",
    "    print(f\"row {r_index} : \",row)\n",
    "    new_row = []\n",
    "\n",
    "    \"\"\" \n",
    "         a questo punto bisogna verificare il contenuto di ogni \"cella\". \n",
    "         Si inizia dunque un ciclo for annidato che iteri lungo \n",
    "         row. Ad ogni cella, se il contenuto è \"\" , verrà sostituito \n",
    "         con uno spazio(per una questione di formattazione), \n",
    "         altrimenti con il carattere trovato(X,O). I print statement \n",
    "         sono stati inseriti solo a scopo dimostrativo\n",
    "         e servono solo come conferma visiva di ciò che sta avvenendo.\n",
    "    \"\"\"\n",
    "        \n",
    "    for index, cell in enumerate(row):\n",
    "\n",
    "        print(f\"    cell content {index}:|{cell}|\")    \n",
    "        if not cell:\n",
    "\n",
    "            new_row.append(\" \")\n",
    "        else:\n",
    "            \n",
    "            new_row.append(cell)    "
   ]
  },
  {
   "cell_type": "code",
   "execution_count": 80,
   "id": "9c0d672c-8b16-400f-a5c7-050638a67afb",
   "metadata": {},
   "outputs": [
    {
     "name": "stdout",
     "output_type": "stream",
     "text": [
      "row: (0, [1, 2, 3])\n",
      "row: (1, [4, 5, 6])\n",
      "row: (2, [7, 8, 9])\n"
     ]
    }
   ],
   "source": [
    "\"\"\"che meraviglia enumerate()!!!!!! E' semplicissima, praticissima e vi aiuta a controllare l'indexing.\"\"\"\n",
    "\n",
    "sample2 = [[1,2,3], [4,5,6], [7,8,9]]\n",
    "\n",
    "for row in enumerate(sample2):\n",
    "\n",
    "    print(\"row:\",row)\n"
   ]
  },
  {
   "cell_type": "code",
   "execution_count": 81,
   "id": "0758c5e2-55b0-4680-84e6-184ead607acd",
   "metadata": {},
   "outputs": [
    {
     "name": "stdout",
     "output_type": "stream",
     "text": [
      "0 [1, 2, 3]\n",
      "1 [4, 5, 6]\n",
      "2 [7, 8, 9]\n"
     ]
    }
   ],
   "source": [
    "\"\"\"\n",
    "    enumerate attribuisce un'indice ad ogni elemento su cui itera e lo inserisce \n",
    "    in una tupla accoppiandolo all'elemento analizzato.\n",
    "    si può pensare di separare i due valori contenuti nella tupla \n",
    "    di \"enumerate\" ed iterare nel modo seguente\n",
    "\"\"\"\n",
    "\n",
    "for index,row in enumerate(sample2):\n",
    "\n",
    "    print(index, row)\n",
    "    \n",
    "# separando i due valori, fare controlli condizionali verrà molto più semplice, e renderà \n",
    "# l'indexing meno macchinoso "
   ]
  },
  {
   "cell_type": "code",
   "execution_count": 98,
   "id": "727bd4b4-e574-4a2c-8739-85ab879e18c3",
   "metadata": {},
   "outputs": [
    {
     "name": "stdout",
     "output_type": "stream",
     "text": [
      " | | \n",
      " | | \n",
      " | | \n"
     ]
    },
    {
     "name": "stdin",
     "output_type": "stream",
     "text": [
      "choose an empty cell and press enter:  7\n"
     ]
    },
    {
     "name": "stdout",
     "output_type": "stream",
     "text": [
      " | | \n",
      " | | \n",
      "X| | \n"
     ]
    }
   ],
   "source": [
    "\"\"\" \n",
    "    il gioco verrà eseguito da terminale(pensare di implementare \n",
    "    un'interfaccia grafica sarebbe assai prematuro) e l'inserimento \n",
    "    avverrà da tastiera tramite input.\n",
    "    \n",
    "    1|2|3               ad ogni tasto corrisponderà una cella. \n",
    "    4|5|6               al tasto 1 corrisponderà la cella [0][0]\n",
    "    7|8|9               al tasto 2 corrisponderà la cella [0][1]\n",
    "                        etc etc\n",
    "    Ma come unire inserimento numero e posizione nel quadrato???\n",
    "    Ci sono vari modi per affrontare il problema ma in questo caso \n",
    "    possono venirci in aiuto i dizionari:\n",
    "\"\"\"\n",
    "positions = {\n",
    "                \"1\" : [0,0],\n",
    "                \"2\" : [0,1],\n",
    "                \"3\" : [0,2],\n",
    "                \"4\" : [1,0],\n",
    "                \"5\" : [1,1],\n",
    "                \"6\" : [1,2],\n",
    "                \"7\" : [2,0],\n",
    "                \"8\" : [2,1],\n",
    "                \"9\" : [2,2]\n",
    "            }\n",
    "\n",
    "\n",
    "sample3 = [[\"\",\"\",\"\"], [\"\",\"\",\"\"], [\"\",\"\",\"\"]]\n",
    "square_visualize(sample3)\n",
    "sample_choice = input(\"choose an empty cell and press enter: \")\n",
    "\n",
    "\"\"\"\n",
    "    per andare ad inserire il segnaposto nella griglia, basterà risalire\n",
    "    alla posizione tramite il dizionario positions. \n",
    "    per questa implementazione ho deciso di mantenere il formato di \n",
    "    inserimento come stringa e di non utilizzare chiavi \n",
    "    del dizionario come \"int\". In teoria non è la scelta migliore,\n",
    "    ma volevo evitare al codice di farmi eseguire una \n",
    "    operazione di conversione(entrambi gli approcci comunque, a seconda\n",
    "    dei contesti, hanno vantaggi e svantaggi). \n",
    "    come per la funzione enumerate(), posso distribuire i valori di una \n",
    "    lista più grande in variabi effettuando\n",
    "    l'operazione di \"unpacking\"(che non è semplice come sembra).\n",
    "\"\"\"    \n",
    "\n",
    "# la lista correlata al valore inserito dall'utente, contiene due valori \n",
    "# che possono essere \"spacchettati\" nelle coordinate\n",
    "# X, Y\n",
    "\n",
    "x, y = positions[sample_choice]\n",
    "\n",
    "# altro modo, molto più semplice:\n",
    "x = positions[sample_choice][0]\n",
    "y = positions[sample_choice][1]\n",
    "\n",
    "# avendo utilizzato il formato stringa come formato per \n",
    "# l'inserimento(al fine di rendere l'implementazione\n",
    "# quanto più semplice possibile), basterà sommare la stringa \n",
    "# vuota contenuta nella cella selezionata \n",
    "# alla stringa segnaposto.\n",
    "\n",
    "sample3[x][y] += \"X\"\n",
    "\n",
    "square_visualize(sample3)\n"
   ]
  },
  {
   "cell_type": "code",
   "execution_count": 82,
   "id": "b96c6ade-c023-4d6c-86ed-58f8620c1217",
   "metadata": {},
   "outputs": [
    {
     "name": "stdout",
     "output_type": "stream",
     "text": [
      "turno 0, player X\n",
      "turno 1, player 0\n",
      "turno 2, player X\n",
      "turno 3, player 0\n",
      "turno 4, player X\n",
      "turno 5, player 0\n",
      "turno 6, player X\n",
      "turno 7, player 0\n",
      "turno 8, player X\n"
     ]
    }
   ],
   "source": [
    "\"\"\"\n",
    "    Ma come gestire l'inserimento dei segnaposto e la loro turnazione???\n",
    "    WHILE è la risposta. Creando una variabile turno, incrementandola e \n",
    "    confrontandola con l'operatore modulo (%) saremo\n",
    "    in grado di verificare se il turno è un turno pari o un turno dispari\n",
    "    e così, assumendo che giocatore X sia il primo, \n",
    "    otterremo un'alternanza di X e O \n",
    "    \n",
    "\"\"\"\n",
    "\n",
    "turno_sample = 0\n",
    "\n",
    "while turno_sample < 9:\n",
    "\n",
    "    player = \"\"\n",
    "    \n",
    "    if turno_sample % 2 == 0:\n",
    "        \n",
    "        player = \"X\"\n",
    "        \n",
    "    else:\n",
    "        \n",
    "        player = \"O\"\n",
    "    \n",
    "    print(f\"turno {turno_sample}, player {player}\")         \n",
    "        \n",
    "    turno_sample += 1\n",
    "\n",
    "    \n",
    "# l'if-else può essere ridotto(e lo riscriverò) come  player = \"X\" if turno_sample % 2 == 0 else \"0\"\n",
    "\n"
   ]
  },
  {
   "cell_type": "code",
   "execution_count": 94,
   "id": "01cfefae-dc23-4b2f-bfad-ffdf5121a6fe",
   "metadata": {},
   "outputs": [
    {
     "name": "stdin",
     "output_type": "stream",
     "text": [
      "choose an empty cell and press enter :  3\n"
     ]
    },
    {
     "name": "stdout",
     "output_type": "stream",
     "text": [
      " | |X\n",
      " | | \n",
      " | | \n"
     ]
    },
    {
     "name": "stdin",
     "output_type": "stream",
     "text": [
      "choose an empty cell and press enter :  5\n"
     ]
    },
    {
     "name": "stdout",
     "output_type": "stream",
     "text": [
      " | |X\n",
      " |O| \n",
      " | | \n"
     ]
    },
    {
     "name": "stdin",
     "output_type": "stream",
     "text": [
      "choose an empty cell and press enter :  6\n"
     ]
    },
    {
     "name": "stdout",
     "output_type": "stream",
     "text": [
      " | |X\n",
      " |O|X\n",
      " | | \n"
     ]
    }
   ],
   "source": [
    "\"\"\"\n",
    "    Ci siamo quasi. Unendo tutti i concetti affrontati fin'ora \n",
    "    nel ciclo while avremo un turno che parte da zero\n",
    "    ed incrementa sino a 8, un campo input che ci farà acquisire\n",
    "    la posizione e tramite dizionario troverà le cordinate ed \n",
    "    inserirà il segnaposto.\n",
    "    Qua sotto, un esempio su tre turni. Inserite solo numeri \n",
    "    differenti tra loro, ancora il codice non è in grado di \n",
    "    controllare gli errori.\n",
    "\"\"\"\n",
    "\n",
    "turno = 0\n",
    "sample4 = [[\"\",\"\",\"\"], [\"\",\"\",\"\"], [\"\",\"\",\"\"]] \n",
    "\n",
    "while turno < 3:\n",
    "\n",
    "    player = \"X\" if turno % 2 == 0 else \"O\"\n",
    "    choice = input(\"choose an empty cell and press enter : \")\n",
    "    x, y = positions[choice]\n",
    "    sample4[x][y] = player\n",
    "    square_visualize(sample4)\n",
    "    turno += 1\n"
   ]
  },
  {
   "cell_type": "code",
   "execution_count": 88,
   "id": "60cb5eee-3bcf-46cc-a0cc-c8788a94cec7",
   "metadata": {
    "jp-MarkdownHeadingCollapsed": true
   },
   "outputs": [
    {
     "name": "stdin",
     "output_type": "stream",
     "text": [
      "choose an empty cell and press enter :  yer\n"
     ]
    },
    {
     "name": "stdout",
     "output_type": "stream",
     "text": [
      "inserted value must be a number\n"
     ]
    },
    {
     "name": "stdin",
     "output_type": "stream",
     "text": [
      "choose an empty cell and press enter :  blues\n"
     ]
    },
    {
     "name": "stdout",
     "output_type": "stream",
     "text": [
      "inserted value must be a number\n"
     ]
    },
    {
     "name": "stdin",
     "output_type": "stream",
     "text": [
      "choose an empty cell and press enter :  3\n"
     ]
    },
    {
     "name": "stdout",
     "output_type": "stream",
     "text": [
      " | |X\n",
      " | | \n",
      " | | \n"
     ]
    },
    {
     "name": "stdin",
     "output_type": "stream",
     "text": [
      "choose an empty cell and press enter :  4\n"
     ]
    },
    {
     "name": "stdout",
     "output_type": "stream",
     "text": [
      " | |X\n",
      "O| | \n",
      " | | \n"
     ]
    },
    {
     "name": "stdin",
     "output_type": "stream",
     "text": [
      "choose an empty cell and press enter :  white\n"
     ]
    },
    {
     "name": "stdout",
     "output_type": "stream",
     "text": [
      "inserted value must be a number\n"
     ]
    },
    {
     "name": "stdin",
     "output_type": "stream",
     "text": [
      "choose an empty cell and press enter :  album\n"
     ]
    },
    {
     "name": "stdout",
     "output_type": "stream",
     "text": [
      "inserted value must be a number\n"
     ]
    },
    {
     "name": "stdin",
     "output_type": "stream",
     "text": [
      "choose an empty cell and press enter :  1\n"
     ]
    },
    {
     "name": "stdout",
     "output_type": "stream",
     "text": [
      "X| |X\n",
      "O| | \n",
      " | | \n"
     ]
    }
   ],
   "source": [
    " \"\"\" \n",
    "    Inizia tutto a prendere forma. Ma ci sono ancora un\n",
    "    paio di cose da fare!!\n",
    "    1. Cosa succede se l'utente inserisce un valore non numerico??\n",
    "    2. Cosa succede se l'utente inserisce il valore corrispondente ad una cella piena?\n",
    "    3. Come faccio a verificare se qualcuno ha vinto o se c'è un pareggio?\n",
    "    Per evitare errori e gestire l'inserimento basta inserire nel ciclo \n",
    "    while delle condizioni di controllo.\n",
    "    La funzione is_digit() verifica se la stringa contiene solo valori \n",
    "    numerici o valori di altro genere.\n",
    "    Il contatore(turno) incrementa solo se viene inserito un valore numerico, \n",
    "    altrimenti viene chiesto nuovamente l'inserimento di un numero.\n",
    "\"\"\"\n",
    "\n",
    "\n",
    "turno = 0\n",
    "sample5 = [[\"\",\"\",\"\"], [\"\",\"\",\"\"], [\"\",\"\",\"\"]] \n",
    "\n",
    "while turno < 3:\n",
    "\n",
    "    player = \"X\" if turno % 2 == 0 else \"O\"\n",
    "    \n",
    "    choice = input(\"choose an empty cell and press enter : \")\n",
    "    if choice.isdigit():\n",
    "        x, y = positions[choice]\n",
    "        sample5[x][y] = player\n",
    "        square_visualize(sample5)\n",
    "        turno += 1\n",
    "    else:\n",
    "        print(\"inserted value must be a number\")\n"
   ]
  },
  {
   "cell_type": "code",
   "execution_count": 34,
   "id": "60590cf4-f6bb-4d0e-8c8c-85a1d87784c6",
   "metadata": {},
   "outputs": [
    {
     "name": "stdin",
     "output_type": "stream",
     "text": [
      "choose an empty cell and press enter :  4\n"
     ]
    },
    {
     "name": "stdout",
     "output_type": "stream",
     "text": [
      " | | \n",
      "X| | \n",
      " | | \n"
     ]
    },
    {
     "name": "stdin",
     "output_type": "stream",
     "text": [
      "choose an empty cell and press enter :  4\n"
     ]
    },
    {
     "name": "stdout",
     "output_type": "stream",
     "text": [
      "cell must be empty\n"
     ]
    },
    {
     "name": "stdin",
     "output_type": "stream",
     "text": [
      "choose an empty cell and press enter :  4\n"
     ]
    },
    {
     "name": "stdout",
     "output_type": "stream",
     "text": [
      "cell must be empty\n"
     ]
    },
    {
     "name": "stdin",
     "output_type": "stream",
     "text": [
      "choose an empty cell and press enter :  5\n"
     ]
    },
    {
     "name": "stdout",
     "output_type": "stream",
     "text": [
      " | | \n",
      "X|O| \n",
      " | | \n"
     ]
    },
    {
     "name": "stdin",
     "output_type": "stream",
     "text": [
      "choose an empty cell and press enter :  6\n"
     ]
    },
    {
     "name": "stdout",
     "output_type": "stream",
     "text": [
      " | | \n",
      "X|O|X\n",
      " | | \n"
     ]
    }
   ],
   "source": [
    "\"\"\"\n",
    "    Altra condizione che si dovrebbe verificare è choice in positions.keys(). \n",
    "    Nel caso in cui infatti questo non fosse vero, la chiave non \n",
    "    verrebbe trovata e si genererebbe un errore.\n",
    "    Ora dobbiamo assicurarci che la posizione scelta non sia occupata ed \n",
    "    il meccanismo è simile a quello del controllo precedente\n",
    "\"\"\"\n",
    "sample6 = [[\"\",\"\",\"\"], [\"\",\"\",\"\"], [\"\",\"\",\"\"]]\n",
    "turno = 0\n",
    "\n",
    "while turno < 3:\n",
    "\n",
    "    player = \"X\" if turno % 2 == 0 else \"O\"    \n",
    "    choice = input(\"choose an empty cell and press enter : \")\n",
    "    \n",
    "    if choice.isdigit() and choice in positions.keys():\n",
    "        \n",
    "        x, y = positions[choice]\n",
    "        \n",
    "        # sarebbe buona norma evitare troppi \"innesti\" ma al momento se non \n",
    "        # scrivessi innestando cicli e condizioni, potrebbe essere complicato capire\n",
    "        # quel che c'è scritto. con questo if si verifica se sample5[x][y] è un valore \n",
    "        # positivo. Se la stringa è vuota(N.b. Uno spazio NON è una stringa vuota, \n",
    "        # c'è parecchia differenza tra \"\" e \" \") il risultato della codizione sarà False,\n",
    "        # e potremo procedere all'inserimento. Se la stringa sarà piena, \n",
    "        # ritornerà True, e inserimento e incremento verranno bloccati\n",
    "        \n",
    "        if sample6[x][y]:\n",
    "            \n",
    "            print(\"cell must be empty\")\n",
    "            \n",
    "        else:    \n",
    "            \n",
    "            sample6[x][y] = player\n",
    "            square_visualize(sample6)\n",
    "            turno += 1\n",
    "            \n",
    "    else:\n",
    "        \n",
    "        print(\"inserted value must be a number in a range between 1 and 9\")\n"
   ]
  },
  {
   "cell_type": "code",
   "execution_count": 95,
   "id": "411efc73-bfbf-4eee-b4a7-24de1bd47f71",
   "metadata": {},
   "outputs": [
    {
     "name": "stdout",
     "output_type": "stream",
     "text": [
      "O| | \n",
      " |O| \n",
      " | |O\n",
      "O wins \n",
      "\n",
      "X|O| \n",
      "X|O| \n",
      "X| | \n",
      "X wins \n",
      "\n",
      "X|O|X\n",
      "X|O|X\n",
      "0|X|O\n",
      "Tie \n",
      "\n",
      "X|O| \n",
      " |O| \n",
      "X| |X\n",
      "None \n",
      "\n"
     ]
    }
   ],
   "source": [
    "\"\"\" \n",
    "     per verificare lo stato di gioco si elebora una funzione \n",
    "     che analizzi ad ogni ciclo il quadrato. Elaborare funzioni è\n",
    "     pratica comune per semplificare ed ottimizzare il codice(il nostro while \n",
    "     sarà pulito e ordinato) ed altre numerorissime operazioni(le\n",
    "     funzioni possono essere riutilizzabili).\n",
    "     Al momento non è fondamentale sapere come si scrive una funzione,\n",
    "     ma dato che le sue operazioni sono basate su controlli molto molto\n",
    "     semplici, possiamo dare una sbirciata a quel che fa.\n",
    "  \"\"\"\n",
    "\n",
    "def end_game_winner(some_square):\n",
    "\n",
    "    \"\"\" questi if elif controllano ogni riga, ogni colonna e le diagonali.\n",
    "     Ci sono molte ripetizioni, tendenzialmente \n",
    "     bisognerebbe raggruppare le condizioni che hanno almeno una posizione\n",
    "     in comune, ma il codice sarebbe risultato, perlomeno al momento, \n",
    "     poco leggibile. T\n",
    "     roverete ciò di cui parlo nella parte #diagonali.\"\"\" \n",
    "    \n",
    "    \n",
    "    #orizzontali\n",
    "    # se il contenuto_cella_1 == contenuto_cella_2 == contenuto_cella_3 e \n",
    "    # contenuto_cella_1 è un valore positivo(!= \"\") la funzione si fermerà e\n",
    "    # restituirà(con il return) il contenuto_cella_1(la prima del gruppo) e \n",
    "    # cosi' per le altre due righe. \n",
    "    # Non è necessario(in verità inutile) ricorrere ad elif perchè la funzione, \n",
    "    # una volta soddisfatta la condizione, si\n",
    "    # interromperà ed il resto del codice non verrà eseguito\n",
    "    \n",
    "    if some_square[0][0] == some_square[0][1] == some_square[0][2] and some_square[0][0]:\n",
    "    \n",
    "        return f\"{some_square[0][0]} wins\"\n",
    "\n",
    "    if some_square[1][0] == some_square[1][1] == some_square[1][2] and some_square[1][0]:\n",
    "    \n",
    "        return f\"{some_square[1][0]} wins\"\n",
    "    \n",
    "    if some_square[2][0] == some_square[2][1] == some_square[2][2] and some_square[2][0]:\n",
    "    \n",
    "        return f\"{some_square[2][0]} wins\"    \n",
    "    \n",
    "\n",
    "    #verticali\n",
    "    # se il contenuto_cella_1 == contenuto_cella_4 == contenuto_cella_7 e contenuto_cella_1 \n",
    "    # è un valore  positivo(!= \"\") la funzione restituirà contenuto_cella_1 etc etc etc\n",
    "    \n",
    "    if some_square[0][0] == some_square[1][0] == some_square[2][0] and some_square[0][0]:\n",
    "    \n",
    "        return f\"{some_square[0][0]} wins\"\n",
    "    \n",
    "    if some_square[0][1] == some_square[1][1] == some_square[2][1] and some_square[0][1]:\n",
    "    \n",
    "        return f\"{some_square[0][1]} wins\"\n",
    "    \n",
    "    if some_square[0][2] == some_square[1][2] == some_square[2][2] and some_square[0][2]:\n",
    "    \n",
    "        return f\"{some_square[0][2]} wins\"    \n",
    "    \n",
    "    #diagonali\n",
    "    #le due diagonali avranno in comune il valore centrale [1][1]. \n",
    "    # Basterà verificare una o l'altra condizione\n",
    "    # e se si ottiene almeno un true il vincitore sarà quello \n",
    "    # nella cella centrale. \n",
    "    \n",
    "    if (some_square[0][0] == some_square[1][1] == some_square[2][2] or some_square[0][2] == some_square[1][1] == some_square[2][0]) and some_square[1][1]:\n",
    "    \n",
    "        return f\"{some_square[0][0]} wins\"\n",
    "    \"\"\"\n",
    "     nel caso in cui nessuna delle condizioni precedenti sia \n",
    "     soddisfatta bisogna verificare se la griglia è piena. \n",
    "     Sappiamo già che nel caso in cui sia piena, dato che \n",
    "     le verifiche con if avrebbero bloccato la funzione, la \n",
    "     partità sarà risolta in un pareggio. Come facciamo a verificarlo???\n",
    "     basta misurare le dimensioni di ogni colonna o le dimensioni di\n",
    "     ogni riga. Dato che anche se come valore \n",
    "     negativo, una stringa vuota verrebbe contata come valore all'interno\n",
    "     della lista, il metodo più semplice\n",
    "     è quello di ricavare delle stringhe dalle righe e misurarne la len\n",
    "    \"\"\"\n",
    "    if len(\"\".join(some_square[0])) == len(\"\".join(some_square[1])) == len(\"\".join(some_square[2])) == 3:\n",
    "\n",
    "        return \"Tie\"\n",
    "    \n",
    "    \"\"\"\n",
    "     se il ciclo non si è ancora interrotto e siamo arrivati fin qui....\n",
    "     c'è una sola possibilità:\n",
    "     si può continuare con l'inserimento e con il gioco. \n",
    "     La funzione a questo punto, finite le verifiche, \n",
    "     restituitirà None\n",
    "    \"\"\"\n",
    "\n",
    "    return None\n",
    "\n",
    "# qui vari esempi\n",
    "sample7 = [\n",
    "            [\"O\",\"\",\"\"], \n",
    "            [\"\",\"O\",\"\"], \n",
    "            [\"\",\"\",\"O\"]\n",
    "        ]\n",
    "\n",
    "square_visualize(sample7)\n",
    "print(end_game_winner(sample7), \"\\n\")\n",
    "\n",
    "sample8 = [\n",
    "           [\"X\",\"O\",\"\"], \n",
    "           [\"X\",\"O\",\"\"], \n",
    "           [\"X\",\"\",\"\"]\n",
    "        ]\n",
    "\n",
    "square_visualize(sample8)\n",
    "print(end_game_winner(sample8), \"\\n\")\n",
    "\n",
    "sample9 = [\n",
    "           [\"X\",\"O\",\"X\"], \n",
    "           [\"X\",\"O\",\"X\"], \n",
    "           [\"0\",\"X\",\"O\"]\n",
    "        ]\n",
    "\n",
    "square_visualize(sample9)\n",
    "print(end_game_winner(sample9), \"\\n\")\n",
    "\n",
    "sample10 = [\n",
    "           [\"X\",\"O\",\"\"], \n",
    "           [\"\",\"O\",\"\"], \n",
    "           [\"X\",\"\",\"X\"]\n",
    "        ]\n",
    "\n",
    "square_visualize(sample10)\n",
    "print(end_game_winner(sample10), \"\\n\")"
   ]
  },
  {
   "cell_type": "code",
   "execution_count": 73,
   "id": "926e9908-cafb-46d6-9b06-13536ac7e1e1",
   "metadata": {},
   "outputs": [
    {
     "name": "stdout",
     "output_type": "stream",
     "text": [
      " | | \n",
      " | | \n",
      " | | \n"
     ]
    },
    {
     "name": "stdin",
     "output_type": "stream",
     "text": [
      "choose an empty cell and press enter :  1\n"
     ]
    },
    {
     "name": "stdout",
     "output_type": "stream",
     "text": [
      "X| | \n",
      " | | \n",
      " | | \n"
     ]
    },
    {
     "name": "stdin",
     "output_type": "stream",
     "text": [
      "choose an empty cell and press enter :  2\n"
     ]
    },
    {
     "name": "stdout",
     "output_type": "stream",
     "text": [
      "X|O| \n",
      " | | \n",
      " | | \n"
     ]
    },
    {
     "name": "stdin",
     "output_type": "stream",
     "text": [
      "choose an empty cell and press enter :  3\n"
     ]
    },
    {
     "name": "stdout",
     "output_type": "stream",
     "text": [
      "X|O|X\n",
      " | | \n",
      " | | \n"
     ]
    },
    {
     "name": "stdin",
     "output_type": "stream",
     "text": [
      "choose an empty cell and press enter :  4\n"
     ]
    },
    {
     "name": "stdout",
     "output_type": "stream",
     "text": [
      "X|O|X\n",
      "O| | \n",
      " | | \n"
     ]
    },
    {
     "name": "stdin",
     "output_type": "stream",
     "text": [
      "choose an empty cell and press enter :  5\n"
     ]
    },
    {
     "name": "stdout",
     "output_type": "stream",
     "text": [
      "X|O|X\n",
      "O|X| \n",
      " | | \n"
     ]
    },
    {
     "name": "stdin",
     "output_type": "stream",
     "text": [
      "choose an empty cell and press enter :  6\n"
     ]
    },
    {
     "name": "stdout",
     "output_type": "stream",
     "text": [
      "X|O|X\n",
      "O|X|O\n",
      " | | \n"
     ]
    },
    {
     "name": "stdin",
     "output_type": "stream",
     "text": [
      "choose an empty cell and press enter :  7\n"
     ]
    },
    {
     "name": "stdout",
     "output_type": "stream",
     "text": [
      "X|O|X\n",
      "O|X|O\n",
      "X| | \n",
      "X wins\n"
     ]
    }
   ],
   "source": [
    "\"\"\"\n",
    "    OK. Adesso uniamo il ciclo while e la funzione ed il \n",
    "    gioco è fatto.\n",
    "    Posizioniamo la funzione subito prima l'incremento. \n",
    "    Ci permetterà di far apparire la scritta anche in caso di pareggio.\n",
    "\"\"\"\n",
    "\n",
    "sample11 = [[\"\",\"\",\"\"], [\"\",\"\",\"\"], [\"\",\"\",\"\"]]\n",
    "turno = 0\n",
    "\n",
    "while turno < 9:\n",
    "\n",
    "    square_visualize(sample11)\n",
    "    player = \"X\" if turno % 2 == 0 else \"O\"\n",
    "    \n",
    "    choice = input(\"choose an empty cell and press enter : \")\n",
    "    if choice.isdigit() and choice in positions.keys():\n",
    "        \n",
    "        x, y = positions[choice]\n",
    "        \n",
    "        if sample11[x][y]:\n",
    "            print(\"cell must be empty\")\n",
    "        else:          \n",
    "            sample11[x][y] = player\n",
    "            \n",
    "            # una volta inserito il segnaposto, la funzione cercherà il vincitore.\n",
    "            # Se non lo trova(None) il ciclo continua, altrimenti si ferma.\n",
    "            \n",
    "            if end_game_winner(sample11):\n",
    "                square_visualize(sample11)\n",
    "                print(end_game_winner(sample11))\n",
    "                break\n",
    "                \n",
    "            turno += 1\n",
    "    else:\n",
    "        print(\"inserted value must be a number in a range between 1 and 9\")\n",
    "\n",
    "\n",
    "# Buon divertimento."
   ]
  },
  {
   "cell_type": "code",
   "execution_count": null,
   "id": "352690e9-4761-4b52-b2fb-4e6637844a9c",
   "metadata": {},
   "outputs": [],
   "source": []
  },
  {
   "cell_type": "code",
   "execution_count": null,
   "id": "d1b62f2d-e448-454c-854b-e9dcefa6ad43",
   "metadata": {},
   "outputs": [],
   "source": []
  }
 ],
 "metadata": {
  "kernelspec": {
   "display_name": "Python 3 (ipykernel)",
   "language": "python",
   "name": "python3"
  },
  "language_info": {
   "codemirror_mode": {
    "name": "ipython",
    "version": 3
   },
   "file_extension": ".py",
   "mimetype": "text/x-python",
   "name": "python",
   "nbconvert_exporter": "python",
   "pygments_lexer": "ipython3",
   "version": "3.10.12"
  }
 },
 "nbformat": 4,
 "nbformat_minor": 5
}
